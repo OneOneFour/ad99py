{
 "cells": [
  {
   "cell_type": "markdown",
   "metadata": {},
   "source": [
    "## Calibrate AD99 parameters to check deficiency cannot be corrected\n",
    "### Load data\n"
   ]
  },
  {
   "cell_type": "code",
   "execution_count": 1,
   "metadata": {},
   "outputs": [
    {
     "ename": "NameError",
     "evalue": "name 'mask_dataset' is not defined",
     "output_type": "error",
     "traceback": [
      "\u001b[31m---------------------------------------------------------------------------\u001b[39m",
      "\u001b[31mNameError\u001b[39m                                 Traceback (most recent call last)",
      "\u001b[36mCell\u001b[39m\u001b[36m \u001b[39m\u001b[32mIn[1]\u001b[39m\u001b[32m, line 19\u001b[39m\n\u001b[32m     16\u001b[39m ds_era5 = ds_era5[fluxes]\n\u001b[32m     17\u001b[39m ds_gcm = ds_gcm[fluxes]\n\u001b[32m---> \u001b[39m\u001b[32m19\u001b[39m ds_era5 = \u001b[43mmask_dataset\u001b[49m(ds_era5,\u001b[38;5;28mdir\u001b[39m=DATADIR,basins=BASIN)\n\u001b[32m     20\u001b[39m ds_gcm = mask_dataset(ds_gcm,\u001b[38;5;28mdir\u001b[39m=DATADIR,basins=BASIN)\n\u001b[32m     22\u001b[39m ds_era5 = ds_era5.transpose(\u001b[33m'\u001b[39m\u001b[33mtime\u001b[39m\u001b[33m'\u001b[39m,\u001b[33m'\u001b[39m\u001b[33mpoints\u001b[39m\u001b[33m'\u001b[39m,\u001b[33m'\u001b[39m\u001b[33mlevel\u001b[39m\u001b[33m'\u001b[39m)\n",
      "\u001b[31mNameError\u001b[39m: name 'mask_dataset' is not defined"
     ]
    }
   ],
   "source": [
    "import xarray as xr \n",
    "BASIN = None \n",
    "FIGDIR = '../../figures'\n",
    "DATADIR = '../../data'\n",
    "exp = 'AD99 c0=u0 (include unbroken)'\n",
    "expcode = 'always_include_unbroken_1year'\n",
    "\n",
    "ERA5_DATASET = f\"/scratch/users/robcking/era5_{expcode}.nc\"\n",
    "GCM_DATASET = f\"/scratch/users/robcking/mima_gwf_{expcode}.nc\"\n",
    "\n",
    "fluxes = ['gw_flux_eastward','gw_flux_westward','gw_flux_northward','gw_flux_southward','z']\n",
    "\n",
    "ds_era5 = xr.open_dataset(ERA5_DATASET)\n",
    "ds_gcm = xr.open_dataset(GCM_DATASET)\n",
    "\n",
    "ds_era5 = ds_era5[fluxes]\n",
    "ds_gcm = ds_gcm[fluxes]\n",
    "\n",
    "ds_era5 = mask_dataset(ds_era5,dir=DATADIR,basins=BASIN)\n",
    "ds_gcm = mask_dataset(ds_gcm,dir=DATADIR,basins=BASIN)\n",
    "\n",
    "ds_era5 = ds_era5.transpose('time','points','level')\n",
    "ds_gcm = ds_gcm.transpose('time','points','level')"
   ]
  },
  {
   "cell_type": "markdown",
   "metadata": {},
   "source": [
    "### $B_t$ / $F_{S0}$ - intermittency factor\n",
    "This parameter sets $\\epsilon$; the intermittency rate of GWs. As discussed in the manuscript this parameter can only shift the entire distribution by a multiplicative factor. In log-space this correpsonds to an additive shift. Thus we can always correct the mean (first moment of the distribution) BUT NOT the variance or the skew!"
   ]
  },
  {
   "cell_type": "markdown",
   "metadata": {},
   "source": []
  }
 ],
 "metadata": {
  "kernelspec": {
   "display_name": "Python 3",
   "language": "python",
   "name": "python3"
  },
  "language_info": {
   "codemirror_mode": {
    "name": "ipython",
    "version": 3
   },
   "file_extension": ".py",
   "mimetype": "text/x-python",
   "name": "python",
   "nbconvert_exporter": "python",
   "pygments_lexer": "ipython3",
   "version": "3.13.3"
  }
 },
 "nbformat": 4,
 "nbformat_minor": 2
}
