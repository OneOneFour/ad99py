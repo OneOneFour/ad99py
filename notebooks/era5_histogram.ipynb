{
 "cells": [
  {
   "cell_type": "code",
   "execution_count": 2,
   "metadata": {},
   "outputs": [
    {
     "name": "stderr",
     "output_type": "stream",
     "text": [
      "/home/groups/aditis2/robcking/condaenvs/ad99py/lib/python3.12/site-packages/distributed/node.py:187: UserWarning: Port 8787 is already in use.\n",
      "Perhaps you already have a cluster running?\n",
      "Hosting the HTTP server on port 38367 instead\n",
      "  warnings.warn(\n"
     ]
    }
   ],
   "source": [
    "from dask.distributed import Client\n",
    "client = Client()\n",
    "client"
   ]
  },
  {
   "cell_type": "code",
   "execution_count": 18,
   "metadata": {},
   "outputs": [],
   "source": [
    "import numpy as np \n",
    "from constants import GRAV\n",
    "import xarray as xr\n",
    "import dask.array as da\n",
    "\n",
    "PATH = \"/scratch/users/robcking/gwd_u_era5_2010_2020.zarr\"\n",
    "LOON_MASK_PATH = \"data/loon_masks.nc\"\n",
    "\n",
    "ds = xr.open_dataset(PATH,chunks={})\n",
    "loon_ds = xr.open_dataset(LOON_MASK_PATH)\n",
    "loon_ds = loon_ds.rename({'lat':'latitude','lon':\"longitude\"})\n",
    "\n",
    "loon_ds['longitude'] = (loon_ds.longitude + 360) % 360 \n",
    "loon_ds = loon_ds.sortby('longitude')\n",
    "\n",
    "interp_mask = loon_ds.interp(latitude=ds.latitude,longitude=ds.longitude,method='nearest').astype(bool)\n"
   ]
  },
  {
   "cell_type": "code",
   "execution_count": 19,
   "metadata": {},
   "outputs": [
    {
     "name": "stderr",
     "output_type": "stream",
     "text": [
      "/home/groups/aditis2/robcking/condaenvs/ad99py/lib/python3.12/site-packages/distributed/client.py:3371: UserWarning: Sending large graph of size 27.65 MiB.\n",
      "This may cause some slowdown.\n",
      "Consider loading the data with Dask directly\n",
      " or using futures or delayed objects to embed the data into the graph without repetition.\n",
      "See also https://docs.dask.org/en/stable/best-practices.html#load-data-with-dask for more information.\n",
      "  warnings.warn(\n"
     ]
    }
   ],
   "source": [
    "extr_gwd = ds.where(interp_mask.extratropical_pacific).stack(points = ['latitude','longitude'])\n",
    "extr_gwd = extr_gwd.gwd.dropna('points',how='all')"
   ]
  },
  {
   "cell_type": "code",
   "execution_count": 22,
   "metadata": {},
   "outputs": [
    {
     "data": {
      "text/plain": [
       "array([   1,    2,    3,    5,    7,   10,   20,   30,   50,   70,  100,\n",
       "        125,  150,  175,  200,  225,  250,  300,  350,  400,  450,  500,\n",
       "        550,  600,  650,  700,  750,  775,  800,  825,  850,  875,  900,\n",
       "        925,  950,  975, 1000])"
      ]
     },
     "execution_count": 22,
     "metadata": {},
     "output_type": "execute_result"
    }
   ],
   "source": [
    "extr_gwd.level.data[::-1]"
   ]
  },
  {
   "cell_type": "code",
   "execution_count": 49,
   "metadata": {},
   "outputs": [],
   "source": [
    "extr_gwd_flip = extr_gwd.isel(level=slice(None,None,-1))"
   ]
  },
  {
   "cell_type": "code",
   "execution_count": 67,
   "metadata": {},
   "outputs": [
    {
     "name": "stderr",
     "output_type": "stream",
     "text": [
      "/home/groups/aditis2/robcking/condaenvs/ad99py/lib/python3.12/site-packages/distributed/client.py:3371: UserWarning: Sending large graph of size 27.98 MiB.\n",
      "This may cause some slowdown.\n",
      "Consider loading the data with Dask directly\n",
      " or using futures or delayed objects to embed the data into the graph without repetition.\n",
      "See also https://docs.dask.org/en/stable/best-practices.html#load-data-with-dask for more information.\n",
      "  warnings.warn(\n"
     ]
    }
   ],
   "source": [
    "cumulative_trapezoid(extr_gwd_flip/GRAV,axis=1,x=extr_gwd_flip.level,initial=0)"
   ]
  },
  {
   "cell_type": "code",
   "execution_count": 66,
   "metadata": {},
   "outputs": [
    {
     "ename": "AssertionError",
     "evalue": "",
     "output_type": "error",
     "traceback": [
      "\u001b[0;31m---------------------------------------------------------------------------\u001b[0m",
      "\u001b[0;31mAssertionError\u001b[0m                            Traceback (most recent call last)",
      "Cell \u001b[0;32mIn[66], line 4\u001b[0m\n\u001b[1;32m      1\u001b[0m \u001b[38;5;28;01mdef\u001b[39;00m\u001b[38;5;250m \u001b[39m\u001b[38;5;21mintegrate_along_axis\u001b[39m(y):\n\u001b[1;32m      2\u001b[0m     \u001b[38;5;28;01mreturn\u001b[39;00m cumulative_trapezoid(y, x\u001b[38;5;241m=\u001b[39my\u001b[38;5;241m.\u001b[39mlevel,initial\u001b[38;5;241m=\u001b[39m\u001b[38;5;241m0\u001b[39m,axis\u001b[38;5;241m=\u001b[39m\u001b[38;5;241m1\u001b[39m)\n\u001b[0;32m----> 4\u001b[0m \u001b[43mextr_gwd_flip\u001b[49m\u001b[38;5;241;43m.\u001b[39;49m\u001b[43mmap_blocks\u001b[49m\u001b[43m(\u001b[49m\u001b[43mintegrate_along_axis\u001b[49m\u001b[43m,\u001b[49m\u001b[43mtemplate\u001b[49m\u001b[38;5;241;43m=\u001b[39;49m\u001b[43mextr_gwd_flip\u001b[49m\u001b[43m)\u001b[49m\n",
      "File \u001b[0;32m/home/groups/aditis2/robcking/condaenvs/ad99py/lib/python3.12/site-packages/xarray/core/dataarray.py:5656\u001b[0m, in \u001b[0;36mDataArray.map_blocks\u001b[0;34m(self, func, args, kwargs, template)\u001b[0m\n\u001b[1;32m   5557\u001b[0m \u001b[38;5;250m\u001b[39m\u001b[38;5;124;03m\"\"\"\u001b[39;00m\n\u001b[1;32m   5558\u001b[0m \u001b[38;5;124;03mApply a function to each block of this DataArray.\u001b[39;00m\n\u001b[1;32m   5559\u001b[0m \n\u001b[0;32m   (...)\u001b[0m\n\u001b[1;32m   5652\u001b[0m \u001b[38;5;124;03m    month    (time) int64 192B dask.array<chunksize=(24,), meta=np.ndarray>\u001b[39;00m\n\u001b[1;32m   5653\u001b[0m \u001b[38;5;124;03m\"\"\"\u001b[39;00m\n\u001b[1;32m   5654\u001b[0m \u001b[38;5;28;01mfrom\u001b[39;00m\u001b[38;5;250m \u001b[39m\u001b[38;5;21;01mxarray\u001b[39;00m\u001b[38;5;21;01m.\u001b[39;00m\u001b[38;5;21;01mcore\u001b[39;00m\u001b[38;5;21;01m.\u001b[39;00m\u001b[38;5;21;01mparallel\u001b[39;00m\u001b[38;5;250m \u001b[39m\u001b[38;5;28;01mimport\u001b[39;00m map_blocks\n\u001b[0;32m-> 5656\u001b[0m \u001b[38;5;28;01mreturn\u001b[39;00m \u001b[43mmap_blocks\u001b[49m\u001b[43m(\u001b[49m\u001b[43mfunc\u001b[49m\u001b[43m,\u001b[49m\u001b[43m \u001b[49m\u001b[38;5;28;43mself\u001b[39;49m\u001b[43m,\u001b[49m\u001b[43m \u001b[49m\u001b[43margs\u001b[49m\u001b[43m,\u001b[49m\u001b[43m \u001b[49m\u001b[43mkwargs\u001b[49m\u001b[43m,\u001b[49m\u001b[43m \u001b[49m\u001b[43mtemplate\u001b[49m\u001b[43m)\u001b[49m\n",
      "File \u001b[0;32m/home/groups/aditis2/robcking/condaenvs/ad99py/lib/python3.12/site-packages/xarray/core/parallel.py:546\u001b[0m, in \u001b[0;36mmap_blocks\u001b[0;34m(func, obj, args, kwargs, template)\u001b[0m\n\u001b[1;32m    540\u001b[0m \u001b[38;5;28;01mfor\u001b[39;00m chunk_tuple \u001b[38;5;129;01min\u001b[39;00m itertools\u001b[38;5;241m.\u001b[39mproduct(\u001b[38;5;241m*\u001b[39michunk\u001b[38;5;241m.\u001b[39mvalues()):\n\u001b[1;32m    541\u001b[0m     \u001b[38;5;66;03m# mapping from dimension name to chunk index\u001b[39;00m\n\u001b[1;32m    542\u001b[0m     chunk_index \u001b[38;5;241m=\u001b[39m \u001b[38;5;28mdict\u001b[39m(\u001b[38;5;28mzip\u001b[39m(ichunk\u001b[38;5;241m.\u001b[39mkeys(), chunk_tuple, strict\u001b[38;5;241m=\u001b[39m\u001b[38;5;28;01mTrue\u001b[39;00m))\n\u001b[1;32m    544\u001b[0m     blocked_args \u001b[38;5;241m=\u001b[39m [\n\u001b[1;32m    545\u001b[0m         (\n\u001b[0;32m--> 546\u001b[0m             \u001b[43msubset_dataset_to_block\u001b[49m\u001b[43m(\u001b[49m\n\u001b[1;32m    547\u001b[0m \u001b[43m                \u001b[49m\u001b[43mgraph\u001b[49m\u001b[43m,\u001b[49m\u001b[43m \u001b[49m\u001b[43mgname\u001b[49m\u001b[43m,\u001b[49m\u001b[43m \u001b[49m\u001b[43marg\u001b[49m\u001b[43m,\u001b[49m\u001b[43m \u001b[49m\u001b[43minput_chunk_bounds\u001b[49m\u001b[43m,\u001b[49m\u001b[43m \u001b[49m\u001b[43mchunk_index\u001b[49m\n\u001b[1;32m    548\u001b[0m \u001b[43m            \u001b[49m\u001b[43m)\u001b[49m\n\u001b[1;32m    549\u001b[0m             \u001b[38;5;28;01mif\u001b[39;00m isxr\n\u001b[1;32m    550\u001b[0m             \u001b[38;5;28;01melse\u001b[39;00m arg\n\u001b[1;32m    551\u001b[0m         )\n\u001b[1;32m    552\u001b[0m         \u001b[38;5;28;01mfor\u001b[39;00m isxr, arg \u001b[38;5;129;01min\u001b[39;00m \u001b[38;5;28mzip\u001b[39m(is_xarray, npargs, strict\u001b[38;5;241m=\u001b[39m\u001b[38;5;28;01mTrue\u001b[39;00m)\n\u001b[1;32m    553\u001b[0m     ]\n\u001b[1;32m    555\u001b[0m     \u001b[38;5;66;03m# only include new or modified indexes to minimize duplication of data\u001b[39;00m\n\u001b[1;32m    556\u001b[0m     indexes \u001b[38;5;241m=\u001b[39m {\n\u001b[1;32m    557\u001b[0m         dim: coordinates\u001b[38;5;241m.\u001b[39mxindexes[dim][\n\u001b[1;32m    558\u001b[0m             _get_chunk_slicer(dim, chunk_index, output_chunk_bounds)\n\u001b[1;32m    559\u001b[0m         ]\n\u001b[1;32m    560\u001b[0m         \u001b[38;5;28;01mfor\u001b[39;00m dim \u001b[38;5;129;01min\u001b[39;00m (new_indexes \u001b[38;5;241m|\u001b[39m modified_indexes)\n\u001b[1;32m    561\u001b[0m     }\n",
      "File \u001b[0;32m/home/groups/aditis2/robcking/condaenvs/ad99py/lib/python3.12/site-packages/xarray/core/parallel.py:194\u001b[0m, in \u001b[0;36msubset_dataset_to_block\u001b[0;34m(graph, gname, dataset, input_chunk_bounds, chunk_index)\u001b[0m\n\u001b[1;32m    189\u001b[0m     graph[chunk_variable_task] \u001b[38;5;241m=\u001b[39m (\n\u001b[1;32m    190\u001b[0m         \u001b[38;5;28mtuple\u001b[39m,\n\u001b[1;32m    191\u001b[0m         [variable\u001b[38;5;241m.\u001b[39mdims, chunk, variable\u001b[38;5;241m.\u001b[39mattrs],\n\u001b[1;32m    192\u001b[0m     )\n\u001b[1;32m    193\u001b[0m \u001b[38;5;28;01melse\u001b[39;00m:\n\u001b[0;32m--> 194\u001b[0m     \u001b[38;5;28;01massert\u001b[39;00m name \u001b[38;5;129;01min\u001b[39;00m dataset\u001b[38;5;241m.\u001b[39mdims \u001b[38;5;129;01mor\u001b[39;00m variable\u001b[38;5;241m.\u001b[39mndim \u001b[38;5;241m==\u001b[39m \u001b[38;5;241m0\u001b[39m\n\u001b[1;32m    196\u001b[0m     \u001b[38;5;66;03m# non-dask array possibly with dimensions chunked on other variables\u001b[39;00m\n\u001b[1;32m    197\u001b[0m     \u001b[38;5;66;03m# index into variable appropriately\u001b[39;00m\n\u001b[1;32m    198\u001b[0m     subsetter \u001b[38;5;241m=\u001b[39m {\n\u001b[1;32m    199\u001b[0m         dim: _get_chunk_slicer(dim, chunk_index, input_chunk_bounds)\n\u001b[1;32m    200\u001b[0m         \u001b[38;5;28;01mfor\u001b[39;00m dim \u001b[38;5;129;01min\u001b[39;00m variable\u001b[38;5;241m.\u001b[39mdims\n\u001b[1;32m    201\u001b[0m     }\n",
      "\u001b[0;31mAssertionError\u001b[0m: "
     ]
    }
   ],
   "source": [
    "def integrate_along_axis(y):\n",
    "    return cumulative_trapezoid(y, x=y.level,initial=0,axis=1)\n",
    "\n",
    "extr_gwd_flip.map_blocks(integrate_along_axis,template=extr_gwd_flip)"
   ]
  },
  {
   "cell_type": "code",
   "execution_count": 40,
   "metadata": {},
   "outputs": [],
   "source": [
    "from scipy.integrate import cumulative_trapezoid\n",
    "from constants import GRAV\n",
    "## TODO: Check vertical integral w.r.t to p i think it's just 1/g \n",
    "def integrate_along_axis(y, x):\n",
    "    return cumulative_trapezoid(y, x=x,initial=0,axis=1)\n",
    "\n",
    "uw_ptv = da.map_blocks(integrate_along_axis,extr_gwd_flip/GRAV,x=extr_gwd_flip.level,dtype=extr_gwd.dtype,chunks=extr_gwd.chunks)"
   ]
  },
  {
   "cell_type": "markdown",
   "metadata": {},
   "source": []
  },
  {
   "cell_type": "code",
   "execution_count": 42,
   "metadata": {},
   "outputs": [
    {
     "name": "stderr",
     "output_type": "stream",
     "text": [
      "/home/groups/aditis2/robcking/condaenvs/ad99py/lib/python3.12/site-packages/distributed/client.py:3371: UserWarning: Sending large graph of size 35.12 MiB.\n",
      "This may cause some slowdown.\n",
      "Consider loading the data with Dask directly\n",
      " or using futures or delayed objects to embed the data into the graph without repetition.\n",
      "See also https://docs.dask.org/en/stable/best-practices.html#load-data-with-dask for more information.\n",
      "  warnings.warn(\n"
     ]
    },
    {
     "name": "stderr",
     "output_type": "stream",
     "text": [
      "2025-02-24 12:36:11,696 - distributed.scheduler - ERROR - Task ('finalize-integrate_along_axis-getitem-a24ab4cca7a96b3cee9bf4b7363ddc7d', 0) has 90.23 GiB worth of input dependencies, but worker tcp://127.0.0.1:44511 has memory_limit set to 8.00 GiB. It seems like you called client.compute() on a huge collection. Consider writing to distributed storage or slicing/reducing first.\n"
     ]
    },
    {
     "ename": "MemoryError",
     "evalue": "Task ('finalize-integrate_along_axis-getitem-a24ab4cca7a96b3cee9bf4b7363ddc7d', 0) has 90.23 GiB worth of input dependencies, but worker tcp://127.0.0.1:44511 has memory_limit set to 8.00 GiB. It seems like you called client.compute() on a huge collection. Consider writing to distributed storage or slicing/reducing first.",
     "output_type": "error",
     "traceback": [
      "\u001b[0;31m---------------------------------------------------------------------------\u001b[0m",
      "\u001b[0;31mMemoryError\u001b[0m                               Traceback (most recent call last)",
      "Cell \u001b[0;32mIn[42], line 1\u001b[0m\n\u001b[0;32m----> 1\u001b[0m demo \u001b[38;5;241m=\u001b[39m \u001b[43muw_ptv\u001b[49m\u001b[43m[\u001b[49m\u001b[38;5;241;43m0\u001b[39;49m\u001b[43m,\u001b[49m\u001b[43m:\u001b[49m\u001b[43m,\u001b[49m\u001b[38;5;241;43m0\u001b[39;49m\u001b[43m]\u001b[49m\u001b[38;5;241;43m.\u001b[39;49m\u001b[43mcompute\u001b[49m\u001b[43m(\u001b[49m\u001b[43m)\u001b[49m\n",
      "File \u001b[0;32m/home/groups/aditis2/robcking/condaenvs/ad99py/lib/python3.12/site-packages/dask/base.py:372\u001b[0m, in \u001b[0;36mDaskMethodsMixin.compute\u001b[0;34m(self, **kwargs)\u001b[0m\n\u001b[1;32m    348\u001b[0m \u001b[38;5;28;01mdef\u001b[39;00m\u001b[38;5;250m \u001b[39m\u001b[38;5;21mcompute\u001b[39m(\u001b[38;5;28mself\u001b[39m, \u001b[38;5;241m*\u001b[39m\u001b[38;5;241m*\u001b[39mkwargs):\n\u001b[1;32m    349\u001b[0m \u001b[38;5;250m    \u001b[39m\u001b[38;5;124;03m\"\"\"Compute this dask collection\u001b[39;00m\n\u001b[1;32m    350\u001b[0m \n\u001b[1;32m    351\u001b[0m \u001b[38;5;124;03m    This turns a lazy Dask collection into its in-memory equivalent.\u001b[39;00m\n\u001b[0;32m   (...)\u001b[0m\n\u001b[1;32m    370\u001b[0m \u001b[38;5;124;03m    dask.compute\u001b[39;00m\n\u001b[1;32m    371\u001b[0m \u001b[38;5;124;03m    \"\"\"\u001b[39;00m\n\u001b[0;32m--> 372\u001b[0m     (result,) \u001b[38;5;241m=\u001b[39m \u001b[43mcompute\u001b[49m\u001b[43m(\u001b[49m\u001b[38;5;28;43mself\u001b[39;49m\u001b[43m,\u001b[49m\u001b[43m \u001b[49m\u001b[43mtraverse\u001b[49m\u001b[38;5;241;43m=\u001b[39;49m\u001b[38;5;28;43;01mFalse\u001b[39;49;00m\u001b[43m,\u001b[49m\u001b[43m \u001b[49m\u001b[38;5;241;43m*\u001b[39;49m\u001b[38;5;241;43m*\u001b[39;49m\u001b[43mkwargs\u001b[49m\u001b[43m)\u001b[49m\n\u001b[1;32m    373\u001b[0m     \u001b[38;5;28;01mreturn\u001b[39;00m result\n",
      "File \u001b[0;32m/home/groups/aditis2/robcking/condaenvs/ad99py/lib/python3.12/site-packages/dask/base.py:660\u001b[0m, in \u001b[0;36mcompute\u001b[0;34m(traverse, optimize_graph, scheduler, get, *args, **kwargs)\u001b[0m\n\u001b[1;32m    657\u001b[0m     postcomputes\u001b[38;5;241m.\u001b[39mappend(x\u001b[38;5;241m.\u001b[39m__dask_postcompute__())\n\u001b[1;32m    659\u001b[0m \u001b[38;5;28;01mwith\u001b[39;00m shorten_traceback():\n\u001b[0;32m--> 660\u001b[0m     results \u001b[38;5;241m=\u001b[39m \u001b[43mschedule\u001b[49m\u001b[43m(\u001b[49m\u001b[43mdsk\u001b[49m\u001b[43m,\u001b[49m\u001b[43m \u001b[49m\u001b[43mkeys\u001b[49m\u001b[43m,\u001b[49m\u001b[43m \u001b[49m\u001b[38;5;241;43m*\u001b[39;49m\u001b[38;5;241;43m*\u001b[39;49m\u001b[43mkwargs\u001b[49m\u001b[43m)\u001b[49m\n\u001b[1;32m    662\u001b[0m \u001b[38;5;28;01mreturn\u001b[39;00m repack([f(r, \u001b[38;5;241m*\u001b[39ma) \u001b[38;5;28;01mfor\u001b[39;00m r, (f, a) \u001b[38;5;129;01min\u001b[39;00m \u001b[38;5;28mzip\u001b[39m(results, postcomputes)])\n",
      "File \u001b[0;32m/home/groups/aditis2/robcking/condaenvs/ad99py/lib/python3.12/site-packages/distributed/client.py:2427\u001b[0m, in \u001b[0;36mClient._gather\u001b[0;34m(self, futures, errors, direct, local_worker)\u001b[0m\n\u001b[1;32m   2425\u001b[0m     exception \u001b[38;5;241m=\u001b[39m st\u001b[38;5;241m.\u001b[39mexception\n\u001b[1;32m   2426\u001b[0m     traceback \u001b[38;5;241m=\u001b[39m st\u001b[38;5;241m.\u001b[39mtraceback\n\u001b[0;32m-> 2427\u001b[0m     \u001b[38;5;28;01mraise\u001b[39;00m exception\u001b[38;5;241m.\u001b[39mwith_traceback(traceback)\n\u001b[1;32m   2428\u001b[0m \u001b[38;5;28;01mif\u001b[39;00m errors \u001b[38;5;241m==\u001b[39m \u001b[38;5;124m\"\u001b[39m\u001b[38;5;124mskip\u001b[39m\u001b[38;5;124m\"\u001b[39m:\n\u001b[1;32m   2429\u001b[0m     bad_keys\u001b[38;5;241m.\u001b[39madd(key)\n",
      "\u001b[0;31mMemoryError\u001b[0m: Task ('finalize-integrate_along_axis-getitem-a24ab4cca7a96b3cee9bf4b7363ddc7d', 0) has 90.23 GiB worth of input dependencies, but worker tcp://127.0.0.1:44511 has memory_limit set to 8.00 GiB. It seems like you called client.compute() on a huge collection. Consider writing to distributed storage or slicing/reducing first."
     ]
    }
   ],
   "source": [
    "demo = uw_ptv[0,:,0].compute()"
   ]
  },
  {
   "cell_type": "code",
   "execution_count": 17,
   "metadata": {},
   "outputs": [],
   "source": [
    "extr_gwd_1hpa = extr_gwd.sel(level=1,method='nearest')\n",
    "extr_gwd_10hpa = extr_gwd.sel(level=10,method='nearest')\n",
    "extr_gwd_100hpa = extr_gwd.sel(level=1,method='nearest')"
   ]
  },
  {
   "cell_type": "code",
   "execution_count": 19,
   "metadata": {},
   "outputs": [
    {
     "name": "stderr",
     "output_type": "stream",
     "text": [
      "/home/groups/aditis2/robcking/condaenvs/ad99py/lib/python3.12/site-packages/distributed/client.py:3371: UserWarning: Sending large graph of size 26.32 MiB.\n",
      "This may cause some slowdown.\n",
      "Consider loading the data with Dask directly\n",
      " or using futures or delayed objects to embed the data into the graph without repetition.\n",
      "See also https://docs.dask.org/en/stable/best-practices.html#load-data-with-dask for more information.\n",
      "  warnings.warn(\n"
     ]
    }
   ],
   "source": [
    "extr_gwd_10hpa = extr_gwd_10hpa.gwd.dropna('points',how='all')"
   ]
  },
  {
   "cell_type": "code",
   "execution_count": 25,
   "metadata": {},
   "outputs": [],
   "source": [
    "extr_gwd_10hpa_flt = extr_gwd_10hpa.data.ravel()"
   ]
  },
  {
   "cell_type": "code",
   "execution_count": 26,
   "metadata": {},
   "outputs": [
    {
     "name": "stderr",
     "output_type": "stream",
     "text": [
      "/home/groups/aditis2/robcking/condaenvs/ad99py/lib/python3.12/site-packages/distributed/client.py:3371: UserWarning: Sending large graph of size 27.80 MiB.\n",
      "This may cause some slowdown.\n",
      "Consider loading the data with Dask directly\n",
      " or using futures or delayed objects to embed the data into the graph without repetition.\n",
      "See also https://docs.dask.org/en/stable/best-practices.html#load-data-with-dask for more information.\n",
      "  warnings.warn(\n"
     ]
    }
   ],
   "source": [
    "extr_gwd_10hpa_flt = extr_gwd_10hpa_flt.compute()"
   ]
  },
  {
   "cell_type": "code",
   "execution_count": 38,
   "metadata": {},
   "outputs": [
    {
     "data": {
      "text/plain": [
       "(-5.0, 5.0)"
      ]
     },
     "execution_count": 38,
     "metadata": {},
     "output_type": "execute_result"
    },
    {
     "data": {
      "image/png": "[encoded data removed]",
      "text/plain": [
       "<Figure size 640x480 with 1 Axes>"
      ]
     },
     "metadata": {},
     "output_type": "display_data"
    }
   ],
   "source": [
    "import matplotlib.pyplot as plt \n",
    "import numpy as np\n",
    "extra_gwd_10hpa_flt = extr_gwd_10hpa_flt[extr_gwd_10hpa_flt > 0]\n",
    "plt.hist(np.log10(1000*extra_gwd_10hpa_flt),bins=100,density=True)\n",
    "plt.xlim(-5,5)"
   ]
  },
  {
   "cell_type": "code",
   "execution_count": null,
   "metadata": {},
   "outputs": [],
   "source": []
  }
 ],
 "metadata": {
  "kernelspec": {
   "display_name": "Python 3",
   "language": "python",
   "name": "python3"
  },
  "language_info": {
   "codemirror_mode": {
    "name": "ipython",
    "version": 3
   },
   "file_extension": ".py",
   "mimetype": "text/x-python",
   "name": "python",
   "nbconvert_exporter": "python",
   "pygments_lexer": "ipython3",
   "version": "3.12.9"
  }
 },
 "nbformat": 4,
 "nbformat_minor": 2
}
