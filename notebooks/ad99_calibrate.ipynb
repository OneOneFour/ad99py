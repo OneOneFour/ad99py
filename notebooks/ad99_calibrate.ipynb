{
 "cells": [
  {
   "cell_type": "markdown",
   "metadata": {},
   "source": [
    "## Load Data"
   ]
  },
  {
   "cell_type": "code",
   "execution_count": 1,
   "metadata": {},
   "outputs": [],
   "source": [
    "import numpy as np\n",
    "import xarray as xr\n",
    "import dask.array as da\n",
    "import matplotlib.pyplot as plt\n",
    "import cartopy.crs as ccrs\n",
    "from scipy.integrate import cumulative_trapezoid\n",
    "from ad99py.ad99dask import AlexanderDunkerton1999Dask\n",
    "from ad99py.constants import GRAV,R_DRY,C_P"
   ]
  },
  {
   "cell_type": "markdown",
   "metadata": {},
   "source": [
    "## Loon Load"
   ]
  },
  {
   "cell_type": "code",
   "execution_count": 2,
   "metadata": {},
   "outputs": [],
   "source": [
    "from glob import iglob \n",
    "import os\n",
    "LOON_GW_DATA_PATH = 'data/loon'\n",
    "u_flux_ptv = []\n",
    "u_flux_ntv = []\n",
    "v_flux_ntv = []\n",
    "v_flux_ptv = []\n",
    "for f in iglob(os.path.join(LOON_GW_DATA_PATH,'*flux.npy')):\n",
    "    flux = np.load(f)\n",
    "    u_flux_ntv.append(flux[0])\n",
    "    u_flux_ptv.append(flux[1])\n",
    "    v_flux_ntv.append(flux[2])    \n",
    "    v_flux_ptv.append(flux[3])\n",
    "\n",
    "\n",
    "loon_ntv_u = np.concatenate(u_flux_ntv)\n",
    "loon_ptv_u = np.concatenate(u_flux_ptv)\n",
    "loon_ntv_v = np.concatenate(v_flux_ntv)\n",
    "loon_ptv_v = np.concatenate(v_flux_ptv)\n",
    "loon_abs_v = np.concatenate([np.abs(loon_ntv_v)+np.abs(loon_ptv_v)])\n",
    "loon_abs_u = np.concatenate([np.abs(loon_ntv_u)+np.abs(loon_ptv_u)])\n",
    "loon_net_u = np.concatenate([loon_ntv_u+loon_ptv_u])\n",
    "loon_net_v = np.concatenate([loon_ntv_v+loon_ptv_v])\n",
    "\n",
    "LOON_DATA = {\n",
    "    'u_flux_ntv': loon_ntv_u[loon_ntv_u<0],\n",
    "    'u_flux_ptv': loon_ptv_u[loon_ptv_u>0],\n",
    "    'v_flux_ntv': loon_ntv_v[loon_ntv_v<0],\n",
    "    'v_flux_ptv': loon_ptv_v[loon_ptv_v>0],\n",
    "    'u_flux_abs': loon_abs_u[loon_abs_u>0],\n",
    "    'v_flux_abs': loon_abs_v[loon_abs_v>0],\n",
    "    'u_flux_net': loon_net_u,\n",
    "    'v_flux_net': loon_net_v\n",
    "}"
   ]
  },
  {
   "cell_type": "markdown",
   "metadata": {},
   "source": [
    "## Load + Mask Data"
   ]
  },
  {
   "cell_type": "code",
   "execution_count": 3,
   "metadata": {},
   "outputs": [],
   "source": [
    "## Load in MiMA data\n",
    "ds = xr.open_dataset('../era5_coarse_daily2015.nc')\n",
    "## Load Masks\n",
    "ds_mask_trop = xr.open_dataset('data/loon_masks.nc')\n",
    "\n",
    "ds_mask_trop['lon'] = (ds_mask_trop.lon + 360) % 360 \n",
    "ds_mask_trop = ds_mask_trop.sortby('lon')\n",
    "ds_mask_trop = ds_mask_trop.rename(lat='latitude',lon='longitude')\n",
    "interp_mask = ds_mask_trop.interp(latitude=ds.latitude,longitude=ds.longitude,method='nearest').astype(bool)\n",
    "total_mask = sum(interp_mask[d] for d in interp_mask.data_vars)\n",
    "\n",
    "# ocean_expac = ds.where(total_mask).stack(points = ['lat','lon'])\n",
    "# ocean_expac = ocean_expac.dropna('points',how='all')\n",
    "# ocean_expac = ocean_expac[['ucomp','temp','vcomp','height','gwfu_cgwd','gwfv_cgwd','omega']]\n",
    "# ocean_expac = ocean_expac.transpose('time','points','pfull')\n",
    "# ocean_expac = ocean_expac.isel(pfull=slice(None,None,-1))\n",
    "\n",
    "\n",
    "# dTdz = da.gradient(ocean_expac.temp,axis=-1)/da.gradient(ocean_expac.height,axis=-1)\n",
    "# Ns2 = GRAV/ocean_expac.temp*(dTdz + GRAV/C_P) \n",
    "# bflim = 1e-4 \n",
    "# Ns2 = xr.where(Ns2 < bflim**2,bflim**2,Ns2)\n",
    "# Ns = np.sqrt(Ns2)\n",
    "# rho = (100*ocean_expac.pfull.data[None,None,:])/(R_DRY*ocean_expac.temp)\n",
    "\n",
    "# rho = rho.data.persist()\n",
    "# lat = ocean_expac.lat.data\n",
    "\n",
    "# u = ocean_expac.ucomp.data.persist()\n",
    "# z = ocean_expac.height.data.persist()\n",
    "# Ns = Ns.data.persist()\n",
    "# lat = da.broadcast_to(lat,(u.shape[0],u.shape[1])).persist()"
   ]
  },
  {
   "cell_type": "code",
   "execution_count": 4,
   "metadata": {},
   "outputs": [],
   "source": [
    "ds_points = ds.where(total_mask).stack(points=['latitude','longitude'])\n",
    "ds_points = ds_points.dropna('points',how='all')\n",
    "ds_points = ds_points.transpose('time','points','level')\n",
    "ds_points = ds_points.reset_index('points')\n"
   ]
  },
  {
   "cell_type": "code",
   "execution_count": 5,
   "metadata": {},
   "outputs": [],
   "source": [
    "lat = ds_points.latitude.data"
   ]
  },
  {
   "cell_type": "markdown",
   "metadata": {},
   "source": [
    "# Calibrate AD99 $c_w$ to Loon \n",
    "We can always RECENTER by changing the intermittency"
   ]
  },
  {
   "cell_type": "code",
   "execution_count": 6,
   "metadata": {},
   "outputs": [
    {
     "data": {
      "text/plain": [
       "np.int64(27)"
      ]
     },
     "execution_count": 6,
     "metadata": {},
     "output_type": "execute_result"
    }
   ],
   "source": [
    "cws = np.arange(5,80,5)\n",
    "level = 70 \n",
    "i_level = np.argmin(np.abs(ds_points.level.data - level))\n",
    "i_level"
   ]
  },
  {
   "cell_type": "code",
   "execution_count": 7,
   "metadata": {},
   "outputs": [],
   "source": [
    "u = ds_points.u.data\n",
    "z = ds_points.z.data \n",
    "Ns = ds_points.Ns.data\n",
    "rho = ds_points.rho.data \n"
   ]
  },
  {
   "cell_type": "markdown",
   "metadata": {},
   "source": [
    "numpy - columnwise"
   ]
  },
  {
   "cell_type": "markdown",
   "metadata": {},
   "source": [
    "dask"
   ]
  },
  {
   "cell_type": "code",
   "execution_count": null,
   "metadata": {},
   "outputs": [
    {
     "name": "stdout",
     "output_type": "stream",
     "text": [
      "5\n",
      "[########################################] | 100% Completed | 238.97 s\n",
      "10\n",
      "[########################################] | 100% Completed | 239.64 s\n",
      "15\n",
      "[########################################] | 100% Completed | 239.27 s\n",
      "20\n",
      "[################################        ] | 80% Completed | 159.18 s\n"
     ]
    },
    {
     "ename": "KeyboardInterrupt",
     "evalue": "",
     "output_type": "error",
     "traceback": [
      "\u001b[0;31m---------------------------------------------------------------------------\u001b[0m",
      "\u001b[0;31mKeyboardInterrupt\u001b[0m                         Traceback (most recent call last)",
      "Cell \u001b[0;32mIn[7], line 11\u001b[0m\n\u001b[1;32m      9\u001b[0m \u001b[38;5;28;01mwith\u001b[39;00m ProgressBar():\n\u001b[1;32m     10\u001b[0m     _, ptv \u001b[38;5;241m=\u001b[39m ad99\u001b[38;5;241m.\u001b[39mmomentum_flux_neg_ptv(u,Ns,z,rho,lat)\n\u001b[0;32m---> 11\u001b[0m     ptv_lvl \u001b[38;5;241m=\u001b[39m \u001b[43mptv\u001b[49m\u001b[43m[\u001b[49m\u001b[38;5;241;43m.\u001b[39;49m\u001b[38;5;241;43m.\u001b[39;49m\u001b[38;5;241;43m.\u001b[39;49m\u001b[43m,\u001b[49m\u001b[43mi_level\u001b[49m\u001b[43m]\u001b[49m\u001b[38;5;241;43m.\u001b[39;49m\u001b[43mcompute\u001b[49m\u001b[43m(\u001b[49m\u001b[43m)\u001b[49m\u001b[38;5;241m.\u001b[39mravel()\n\u001b[1;32m     12\u001b[0m uw_ptv_level\u001b[38;5;241m.\u001b[39mappend(ptv_lvl[ptv_lvl \u001b[38;5;241m>\u001b[39m \u001b[38;5;241m0\u001b[39m])\n",
      "File \u001b[0;32m/home/groups/aditis2/robcking/condaenvs/ad99py/lib/python3.12/site-packages/dask/base.py:374\u001b[0m, in \u001b[0;36mDaskMethodsMixin.compute\u001b[0;34m(self, **kwargs)\u001b[0m\n\u001b[1;32m    350\u001b[0m \u001b[38;5;28;01mdef\u001b[39;00m\u001b[38;5;250m \u001b[39m\u001b[38;5;21mcompute\u001b[39m(\u001b[38;5;28mself\u001b[39m, \u001b[38;5;241m*\u001b[39m\u001b[38;5;241m*\u001b[39mkwargs):\n\u001b[1;32m    351\u001b[0m \u001b[38;5;250m    \u001b[39m\u001b[38;5;124;03m\"\"\"Compute this dask collection\u001b[39;00m\n\u001b[1;32m    352\u001b[0m \n\u001b[1;32m    353\u001b[0m \u001b[38;5;124;03m    This turns a lazy Dask collection into its in-memory equivalent.\u001b[39;00m\n\u001b[0;32m   (...)\u001b[0m\n\u001b[1;32m    372\u001b[0m \u001b[38;5;124;03m    dask.compute\u001b[39;00m\n\u001b[1;32m    373\u001b[0m \u001b[38;5;124;03m    \"\"\"\u001b[39;00m\n\u001b[0;32m--> 374\u001b[0m     (result,) \u001b[38;5;241m=\u001b[39m \u001b[43mcompute\u001b[49m\u001b[43m(\u001b[49m\u001b[38;5;28;43mself\u001b[39;49m\u001b[43m,\u001b[49m\u001b[43m \u001b[49m\u001b[43mtraverse\u001b[49m\u001b[38;5;241;43m=\u001b[39;49m\u001b[38;5;28;43;01mFalse\u001b[39;49;00m\u001b[43m,\u001b[49m\u001b[43m \u001b[49m\u001b[38;5;241;43m*\u001b[39;49m\u001b[38;5;241;43m*\u001b[39;49m\u001b[43mkwargs\u001b[49m\u001b[43m)\u001b[49m\n\u001b[1;32m    375\u001b[0m     \u001b[38;5;28;01mreturn\u001b[39;00m result\n",
      "File \u001b[0;32m/home/groups/aditis2/robcking/condaenvs/ad99py/lib/python3.12/site-packages/dask/base.py:662\u001b[0m, in \u001b[0;36mcompute\u001b[0;34m(traverse, optimize_graph, scheduler, get, *args, **kwargs)\u001b[0m\n\u001b[1;32m    659\u001b[0m     postcomputes\u001b[38;5;241m.\u001b[39mappend(x\u001b[38;5;241m.\u001b[39m__dask_postcompute__())\n\u001b[1;32m    661\u001b[0m \u001b[38;5;28;01mwith\u001b[39;00m shorten_traceback():\n\u001b[0;32m--> 662\u001b[0m     results \u001b[38;5;241m=\u001b[39m \u001b[43mschedule\u001b[49m\u001b[43m(\u001b[49m\u001b[43mdsk\u001b[49m\u001b[43m,\u001b[49m\u001b[43m \u001b[49m\u001b[43mkeys\u001b[49m\u001b[43m,\u001b[49m\u001b[43m \u001b[49m\u001b[38;5;241;43m*\u001b[39;49m\u001b[38;5;241;43m*\u001b[39;49m\u001b[43mkwargs\u001b[49m\u001b[43m)\u001b[49m\n\u001b[1;32m    664\u001b[0m \u001b[38;5;28;01mreturn\u001b[39;00m repack([f(r, \u001b[38;5;241m*\u001b[39ma) \u001b[38;5;28;01mfor\u001b[39;00m r, (f, a) \u001b[38;5;129;01min\u001b[39;00m \u001b[38;5;28mzip\u001b[39m(results, postcomputes)])\n",
      "File \u001b[0;32m/home/groups/aditis2/robcking/condaenvs/ad99py/lib/python3.12/queue.py:171\u001b[0m, in \u001b[0;36mQueue.get\u001b[0;34m(self, block, timeout)\u001b[0m\n\u001b[1;32m    169\u001b[0m \u001b[38;5;28;01melif\u001b[39;00m timeout \u001b[38;5;129;01mis\u001b[39;00m \u001b[38;5;28;01mNone\u001b[39;00m:\n\u001b[1;32m    170\u001b[0m     \u001b[38;5;28;01mwhile\u001b[39;00m \u001b[38;5;129;01mnot\u001b[39;00m \u001b[38;5;28mself\u001b[39m\u001b[38;5;241m.\u001b[39m_qsize():\n\u001b[0;32m--> 171\u001b[0m         \u001b[38;5;28;43mself\u001b[39;49m\u001b[38;5;241;43m.\u001b[39;49m\u001b[43mnot_empty\u001b[49m\u001b[38;5;241;43m.\u001b[39;49m\u001b[43mwait\u001b[49m\u001b[43m(\u001b[49m\u001b[43m)\u001b[49m\n\u001b[1;32m    172\u001b[0m \u001b[38;5;28;01melif\u001b[39;00m timeout \u001b[38;5;241m<\u001b[39m \u001b[38;5;241m0\u001b[39m:\n\u001b[1;32m    173\u001b[0m     \u001b[38;5;28;01mraise\u001b[39;00m \u001b[38;5;167;01mValueError\u001b[39;00m(\u001b[38;5;124m\"\u001b[39m\u001b[38;5;124m'\u001b[39m\u001b[38;5;124mtimeout\u001b[39m\u001b[38;5;124m'\u001b[39m\u001b[38;5;124m must be a non-negative number\u001b[39m\u001b[38;5;124m\"\u001b[39m)\n",
      "File \u001b[0;32m/home/groups/aditis2/robcking/condaenvs/ad99py/lib/python3.12/threading.py:355\u001b[0m, in \u001b[0;36mCondition.wait\u001b[0;34m(self, timeout)\u001b[0m\n\u001b[1;32m    353\u001b[0m \u001b[38;5;28;01mtry\u001b[39;00m:    \u001b[38;5;66;03m# restore state no matter what (e.g., KeyboardInterrupt)\u001b[39;00m\n\u001b[1;32m    354\u001b[0m     \u001b[38;5;28;01mif\u001b[39;00m timeout \u001b[38;5;129;01mis\u001b[39;00m \u001b[38;5;28;01mNone\u001b[39;00m:\n\u001b[0;32m--> 355\u001b[0m         \u001b[43mwaiter\u001b[49m\u001b[38;5;241;43m.\u001b[39;49m\u001b[43macquire\u001b[49m\u001b[43m(\u001b[49m\u001b[43m)\u001b[49m\n\u001b[1;32m    356\u001b[0m         gotit \u001b[38;5;241m=\u001b[39m \u001b[38;5;28;01mTrue\u001b[39;00m\n\u001b[1;32m    357\u001b[0m     \u001b[38;5;28;01melse\u001b[39;00m:\n",
      "\u001b[0;31mKeyboardInterrupt\u001b[0m: "
     ]
    }
   ],
   "source": [
    "from dask.diagnostics import ProgressBar\n",
    "from ad99py.ad99dask import AlexanderDunkerton1999Dask\n",
    "uw_ptv_level = []\n",
    "\n",
    "for c in cws:\n",
    "    print(c)\n",
    "\n",
    "    ad99 = AlexanderDunkerton1999Dask(cw=c,dc=0.4,exclude_unbroken=True,use_intrinsic_c='never')\n",
    "    with ProgressBar():\n",
    "        _, ptv = ad99.momentum_flux_neg_ptv(u,Ns,z,rho,lat)\n",
    "        ptv_lvl = ptv[...,i_level].compute().ravel()\n",
    "    uw_ptv_level.append(ptv_lvl[ptv_lvl > 0])"
   ]
  }
 ],
 "metadata": {
  "kernelspec": {
   "display_name": "loon_gw",
   "language": "python",
   "name": "python3"
  },
  "language_info": {
   "codemirror_mode": {
    "name": "ipython",
    "version": 3
   },
   "file_extension": ".py",
   "mimetype": "text/x-python",
   "name": "python",
   "nbconvert_exporter": "python",
   "pygments_lexer": "ipython3",
   "version": "3.13.2"
  }
 },
 "nbformat": 4,
 "nbformat_minor": 2
}
