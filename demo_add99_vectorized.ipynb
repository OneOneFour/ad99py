{
 "cells": [
  {
   "cell_type": "code",
   "execution_count": 1,
   "metadata": {},
   "outputs": [],
   "source": [
    "import numpy as np\n",
    "import xarray as xr\n",
    "import dask.array as da \n",
    "import matplotlib.pyplot as plt\n",
    "from scipy.integrate import cumulative_trapezoid\n",
    "from ad99 import AlexanderDunkerton1999\n",
    "from constants import GRAV,R_DRY,C_P"
   ]
  },
  {
   "cell_type": "code",
   "execution_count": 2,
   "metadata": {},
   "outputs": [],
   "source": [
    "ds = xr.open_dataset('data/atmos_daily_flag0.nc',chunks={'time':1})\n",
    "ds_mask_trop = xr.open_dataset('data/loon_masks.nc')\n",
    "ds_mask_trop['lon'] = (ds_mask_trop.lon + 360) % 360 \n",
    "ds_mask_trop = ds_mask_trop.sortby('lon')\n",
    "interp_mask = ds_mask_trop.interp(lat=ds.lat,lon=ds.lon,method='nearest').astype(bool)\n",
    "total_mask = sum(interp_mask[d] for d in interp_mask.data_vars)\n",
    "ocean_expac = ds.where(total_mask).stack(points = ['lat','lon'])\n",
    "ocean_expac = ocean_expac.dropna('points',how='all')\n",
    "ocean_expac = ocean_expac.isel(pfull=slice(None,None,-1))\n",
    "\n",
    "ocean_expac = ocean_expac[['ucomp','temp','vcomp','height','gwfu_cgwd','gwfv_cgwd']]\n",
    "ocean_expac = ocean_expac.transpose('time','points','pfull')\n"
   ]
  },
  {
   "cell_type": "code",
   "execution_count": 3,
   "metadata": {},
   "outputs": [],
   "source": [
    "dTdz = da.gradient(ocean_expac.temp,axis=-1)/da.gradient(ocean_expac.height,axis=-1)\n",
    "Ns2 = GRAV/ocean_expac.temp*(dTdz + GRAV/C_P) \n",
    "bflim =  5e-3\n",
    "Ns2 = xr.where(Ns2 < bflim**2,bflim**2,Ns2)\n",
    "Ns = da.sqrt(Ns2)\n",
    "rho = (100*ocean_expac.pfull.data[None,None,:])/(R_DRY*ocean_expac.temp)\n",
    "\n",
    "rho = rho.data.persist()\n",
    "lat = ocean_expac.lat.data\n",
    "u = ocean_expac.ucomp.data.persist()\n",
    "z = ocean_expac.height.data.persist()\n",
    "Ns = Ns.data.persist()"
   ]
  },
  {
   "cell_type": "code",
   "execution_count": 4,
   "metadata": {},
   "outputs": [],
   "source": [
    "lat = da.broadcast_to(lat,(u.shape[0],u.shape[1])).persist()"
   ]
  },
  {
   "cell_type": "markdown",
   "metadata": {},
   "source": [
    "### vectorized dask attempt"
   ]
  },
  {
   "cell_type": "code",
   "execution_count": 5,
   "metadata": {},
   "outputs": [],
   "source": [
    "source_level_height = 9000\n",
    "dc = 1.2\n",
    "source_levels = da.argmin(da.abs(z - source_level_height*da.cos(da.deg2rad(lat))[...,None] ),axis=-1,keepdims=True)\n",
    "\n",
    "def take_along_axis(data,idx):\n",
    "    return np.take_along_axis(data[0],idx[0],axis=-1).squeeze(axis=-1)\n",
    "\n",
    "rho_0 = da.blockwise(take_along_axis,\"ij\",rho,\"ijk\",source_levels,\"ijk\",dtype=rho.dtype)\n",
    "u_0 = da.blockwise(take_along_axis,\"ij\",u,\"ijk\",source_levels,\"ijk\",dtype=u.dtype)\n",
    "c0 = np.arange(-99.6,99.6+dc,dc,dtype=np.float32)"
   ]
  },
  {
   "cell_type": "code",
   "execution_count": 7,
   "metadata": {},
   "outputs": [],
   "source": [
    "Bm = 0.4\n",
    "cw = 35\n",
    "CUT_OFF = 10.0\n",
    "\n",
    "def source_spectrum( c, u=None,lat=None):\n",
    "    u = u[...,None]\n",
    "    if lat is None:\n",
    "        c0 = u \n",
    "    else:\n",
    "        c0 =da.where(lat[...,None] >= CUT_OFF,0.0,u)\n",
    "    return np.sign(c-u)*Bm*np.exp(-np.log(2,dtype=u.dtype) * ((c-c0) /cw) ** 2)\n",
    "\n",
    "spectrum = source_spectrum(c0,u_0)"
   ]
  },
  {
   "cell_type": "code",
   "execution_count": null,
   "metadata": {},
   "outputs": [],
   "source": [
    "dz = z[..., 1:] - z[..., :-1]\n",
    "H = -(dz / da.log(rho[..., 1:] / rho[..., :-1]))\n",
    "dz = da.concatenate([dz[..., 0, None], dz], axis=-1)\n",
    "H = da.concatenate([H[..., 0, None], H], axis=-1)\n",
    "dz = dz.rechunk(z.chunks)   \n",
    "H = H.rechunk(z.chunks)"
   ]
  },
  {
   "cell_type": "code",
   "execution_count": null,
   "metadata": {},
   "outputs": [],
   "source": [
    "kwv = (2*np.pi)/(300e3)\n",
    "def reflection_frequency(N,H):\n",
    "    alpha = 1/(2*H)\n",
    "    return np.sqrt( N**2 * kwv**2/ (kwv**2 + alpha*alpha))\n",
    "\n",
    "f = reflection_frequency(Ns,H)\n"
   ]
  },
  {
   "cell_type": "code",
   "execution_count": null,
   "metadata": {},
   "outputs": [],
   "source": [
    "intrinsic_freq = kwv*(c0[:,None] - u[...,None,:])"
   ]
  },
  {
   "cell_type": "code",
   "execution_count": 9,
   "metadata": {},
   "outputs": [
    {
     "data": {
      "text/html": [
       "<table>\n",
       "    <tr>\n",
       "        <td>\n",
       "            <table style=\"border-collapse: collapse;\">\n",
       "                <thead>\n",
       "                    <tr>\n",
       "                        <td> </td>\n",
       "                        <th> Array </th>\n",
       "                        <th> Chunk </th>\n",
       "                    </tr>\n",
       "                </thead>\n",
       "                <tbody>\n",
       "                    \n",
       "                    <tr>\n",
       "                        <th> Bytes </th>\n",
       "                        <td> 137.55 MiB </td>\n",
       "                        <td> 391.25 kiB </td>\n",
       "                    </tr>\n",
       "                    \n",
       "                    <tr>\n",
       "                        <th> Shape </th>\n",
       "                        <td> (360, 2504, 1, 40) </td>\n",
       "                        <td> (1, 2504, 1, 40) </td>\n",
       "                    </tr>\n",
       "                    <tr>\n",
       "                        <th> Dask graph </th>\n",
       "                        <td colspan=\"2\"> 360 chunks in 2 graph layers </td>\n",
       "                    </tr>\n",
       "                    <tr>\n",
       "                        <th> Data type </th>\n",
       "                        <td colspan=\"2\"> float32 numpy.ndarray </td>\n",
       "                    </tr>\n",
       "                </tbody>\n",
       "            </table>\n",
       "        </td>\n",
       "        <td>\n",
       "        <svg width=\"368\" height=\"146\" style=\"stroke:rgb(0,0,0);stroke-width:1\" >\n",
       "\n",
       "  <!-- Horizontal lines -->\n",
       "  <line x1=\"0\" y1=\"0\" x2=\"40\" y2=\"0\" style=\"stroke-width:2\" />\n",
       "  <line x1=\"0\" y1=\"25\" x2=\"40\" y2=\"25\" style=\"stroke-width:2\" />\n",
       "\n",
       "  <!-- Vertical lines -->\n",
       "  <line x1=\"0\" y1=\"0\" x2=\"0\" y2=\"25\" style=\"stroke-width:2\" />\n",
       "  <line x1=\"1\" y1=\"0\" x2=\"1\" y2=\"25\" />\n",
       "  <line x1=\"2\" y1=\"0\" x2=\"2\" y2=\"25\" />\n",
       "  <line x1=\"3\" y1=\"0\" x2=\"3\" y2=\"25\" />\n",
       "  <line x1=\"5\" y1=\"0\" x2=\"5\" y2=\"25\" />\n",
       "  <line x1=\"6\" y1=\"0\" x2=\"6\" y2=\"25\" />\n",
       "  <line x1=\"7\" y1=\"0\" x2=\"7\" y2=\"25\" />\n",
       "  <line x1=\"8\" y1=\"0\" x2=\"8\" y2=\"25\" />\n",
       "  <line x1=\"10\" y1=\"0\" x2=\"10\" y2=\"25\" />\n",
       "  <line x1=\"11\" y1=\"0\" x2=\"11\" y2=\"25\" />\n",
       "  <line x1=\"12\" y1=\"0\" x2=\"12\" y2=\"25\" />\n",
       "  <line x1=\"13\" y1=\"0\" x2=\"13\" y2=\"25\" />\n",
       "  <line x1=\"15\" y1=\"0\" x2=\"15\" y2=\"25\" />\n",
       "  <line x1=\"16\" y1=\"0\" x2=\"16\" y2=\"25\" />\n",
       "  <line x1=\"17\" y1=\"0\" x2=\"17\" y2=\"25\" />\n",
       "  <line x1=\"18\" y1=\"0\" x2=\"18\" y2=\"25\" />\n",
       "  <line x1=\"20\" y1=\"0\" x2=\"20\" y2=\"25\" />\n",
       "  <line x1=\"21\" y1=\"0\" x2=\"21\" y2=\"25\" />\n",
       "  <line x1=\"22\" y1=\"0\" x2=\"22\" y2=\"25\" />\n",
       "  <line x1=\"23\" y1=\"0\" x2=\"23\" y2=\"25\" />\n",
       "  <line x1=\"25\" y1=\"0\" x2=\"25\" y2=\"25\" />\n",
       "  <line x1=\"26\" y1=\"0\" x2=\"26\" y2=\"25\" />\n",
       "  <line x1=\"27\" y1=\"0\" x2=\"27\" y2=\"25\" />\n",
       "  <line x1=\"29\" y1=\"0\" x2=\"29\" y2=\"25\" />\n",
       "  <line x1=\"30\" y1=\"0\" x2=\"30\" y2=\"25\" />\n",
       "  <line x1=\"31\" y1=\"0\" x2=\"31\" y2=\"25\" />\n",
       "  <line x1=\"32\" y1=\"0\" x2=\"32\" y2=\"25\" />\n",
       "  <line x1=\"34\" y1=\"0\" x2=\"34\" y2=\"25\" />\n",
       "  <line x1=\"35\" y1=\"0\" x2=\"35\" y2=\"25\" />\n",
       "  <line x1=\"36\" y1=\"0\" x2=\"36\" y2=\"25\" />\n",
       "  <line x1=\"37\" y1=\"0\" x2=\"37\" y2=\"25\" />\n",
       "  <line x1=\"39\" y1=\"0\" x2=\"39\" y2=\"25\" />\n",
       "  <line x1=\"40\" y1=\"0\" x2=\"40\" y2=\"25\" style=\"stroke-width:2\" />\n",
       "\n",
       "  <!-- Colored Rectangle -->\n",
       "  <polygon points=\"0.0,0.0 40.49977413720502,0.0 40.49977413720502,25.412616514582485 0.0,25.412616514582485\" style=\"fill:#8B4903A0;stroke-width:0\"/>\n",
       "\n",
       "  <!-- Text -->\n",
       "  <text x=\"20.249887\" y=\"45.412617\" font-size=\"1.0rem\" font-weight=\"100\" text-anchor=\"middle\" >360</text>\n",
       "  <text x=\"60.499774\" y=\"12.706308\" font-size=\"1.0rem\" font-weight=\"100\" text-anchor=\"middle\" transform=\"rotate(0,60.499774,12.706308)\">1</text>\n",
       "\n",
       "\n",
       "  <!-- Horizontal lines -->\n",
       "  <line x1=\"110\" y1=\"0\" x2=\"180\" y2=\"70\" style=\"stroke-width:2\" />\n",
       "  <line x1=\"110\" y1=\"25\" x2=\"180\" y2=\"96\" style=\"stroke-width:2\" />\n",
       "\n",
       "  <!-- Vertical lines -->\n",
       "  <line x1=\"110\" y1=\"0\" x2=\"110\" y2=\"25\" style=\"stroke-width:2\" />\n",
       "  <line x1=\"180\" y1=\"70\" x2=\"180\" y2=\"96\" style=\"stroke-width:2\" />\n",
       "\n",
       "  <!-- Colored Rectangle -->\n",
       "  <polygon points=\"110.0,0.0 180.58823529411765,70.58823529411765 180.58823529411765,96.00085180870013 110.0,25.412616514582485\" style=\"fill:#ECB172A0;stroke-width:0\"/>\n",
       "\n",
       "  <!-- Horizontal lines -->\n",
       "  <line x1=\"110\" y1=\"0\" x2=\"137\" y2=\"0\" style=\"stroke-width:2\" />\n",
       "  <line x1=\"180\" y1=\"70\" x2=\"208\" y2=\"70\" style=\"stroke-width:2\" />\n",
       "\n",
       "  <!-- Vertical lines -->\n",
       "  <line x1=\"110\" y1=\"0\" x2=\"180\" y2=\"70\" style=\"stroke-width:2\" />\n",
       "  <line x1=\"137\" y1=\"0\" x2=\"208\" y2=\"70\" style=\"stroke-width:2\" />\n",
       "\n",
       "  <!-- Colored Rectangle -->\n",
       "  <polygon points=\"110.0,0.0 137.79393870796602,0.0 208.38217400208367,70.58823529411765 180.58823529411765,70.58823529411765\" style=\"fill:#ECB172A0;stroke-width:0\"/>\n",
       "\n",
       "  <!-- Horizontal lines -->\n",
       "  <line x1=\"180\" y1=\"70\" x2=\"208\" y2=\"70\" style=\"stroke-width:2\" />\n",
       "  <line x1=\"180\" y1=\"96\" x2=\"208\" y2=\"96\" style=\"stroke-width:2\" />\n",
       "\n",
       "  <!-- Vertical lines -->\n",
       "  <line x1=\"180\" y1=\"70\" x2=\"180\" y2=\"96\" style=\"stroke-width:2\" />\n",
       "  <line x1=\"208\" y1=\"70\" x2=\"208\" y2=\"96\" style=\"stroke-width:2\" />\n",
       "\n",
       "  <!-- Colored Rectangle -->\n",
       "  <polygon points=\"180.58823529411765,70.58823529411765 208.38217400208367,70.58823529411765 208.38217400208367,96.00085180870013 180.58823529411765,96.00085180870013\" style=\"fill:#ECB172A0;stroke-width:0\"/>\n",
       "\n",
       "  <!-- Text -->\n",
       "  <text x=\"194.485205\" y=\"116.000852\" font-size=\"1.0rem\" font-weight=\"100\" text-anchor=\"middle\" >40</text>\n",
       "  <text x=\"228.382174\" y=\"83.294544\" font-size=\"1.0rem\" font-weight=\"100\" text-anchor=\"middle\" transform=\"rotate(0,228.382174,83.294544)\">1</text>\n",
       "  <text x=\"135.294118\" y=\"80.706734\" font-size=\"1.0rem\" font-weight=\"100\" text-anchor=\"middle\" transform=\"rotate(45,135.294118,80.706734)\">2504</text>\n",
       "</svg>\n",
       "        </td>\n",
       "    </tr>\n",
       "</table>"
      ],
      "text/plain": [
       "dask.array<getitem, shape=(360, 2504, 1, 40), dtype=float32, chunksize=(1, 2504, 1, 40), chunktype=numpy.ndarray>"
      ]
     },
     "execution_count": 9,
     "metadata": {},
     "output_type": "execute_result"
    }
   ],
   "source": [
    "u[...,None,:]"
   ]
  },
  {
   "cell_type": "code",
   "execution_count": null,
   "metadata": {},
   "outputs": [
    {
     "data": {
      "text/plain": [
       "array([[0.00203461, 0.00204911, 0.00208376, ..., 0.00149434, 0.00142883,\n",
       "        0.0012988 ],\n",
       "       [0.00200948, 0.00202398, 0.00205862, ..., 0.00146921, 0.0014037 ,\n",
       "        0.00127366],\n",
       "       [0.00198434, 0.00199885, 0.00203349, ..., 0.00144408, 0.00137857,\n",
       "        0.00124853],\n",
       "       ...,\n",
       "       [0.00208715, 0.00207265, 0.002038  , ..., 0.00262742, 0.00269293,\n",
       "        0.00282296],\n",
       "       [0.00211228, 0.00209778, 0.00206313, ..., 0.00265255, 0.00271806,\n",
       "        0.0028481 ],\n",
       "       [0.00213742, 0.00212291, 0.00208827, ..., 0.00267768, 0.00274319,\n",
       "        0.00287323]], shape=(167, 40), dtype=float32)"
      ]
     },
     "execution_count": 10,
     "metadata": {},
     "output_type": "execute_result"
    }
   ],
   "source": [
    "np.abs(intrinsic_freq)[0,0].compute()"
   ]
  },
  {
   "cell_type": "code",
   "execution_count": null,
   "metadata": {},
   "outputs": [],
   "source": [
    "level_idx = da.broadcast_to(da.arange(z.shape[-1],dtype=int),z.shape,chunks=z.chunks)  \n"
   ]
  },
  {
   "cell_type": "code",
   "execution_count": null,
   "metadata": {},
   "outputs": [],
   "source": [
    "reflection_frequency = reflection_frequency(Ns, H)\n",
    "intrinsic_freq = kwv * (c0[..., :, None] - u[..., None, :])\n",
    "tir = (da.abs(intrinsic_freq) >= reflection_frequency[..., None, :]) * (\n",
    "    (level_idx >= source_levels)[..., None, :]\n",
    ")"
   ]
  },
  {
   "cell_type": "code",
   "execution_count": null,
   "metadata": {},
   "outputs": [
    {
     "data": {
      "text/plain": [
       "<matplotlib.image.AxesImage at 0x317b586e0>"
      ]
     },
     "execution_count": 13,
     "metadata": {},
     "output_type": "execute_result"
    },
    {
     "data": {
      "image/png": "[encoded data removed]",
      "text/plain": [
       "<Figure size 640x480 with 1 Axes>"
      ]
     },
     "metadata": {},
     "output_type": "display_data"
    }
   ],
   "source": [
    "plt.imshow(tir[0,10].compute())"
   ]
  },
  {
   "cell_type": "code",
   "execution_count": null,
   "metadata": {},
   "outputs": [
    {
     "data": {
      "text/plain": [
       "<matplotlib.legend.Legend at 0x317b58d70>"
      ]
     },
     "execution_count": 14,
     "metadata": {},
     "output_type": "execute_result"
    },
    {
     "data": {
      "image/png": "[encoded data removed]",
      "text/plain": [
       "<Figure size 640x480 with 1 Axes>"
      ]
     },
     "metadata": {},
     "output_type": "display_data"
    }
   ],
   "source": [
    "plt.plot(da.abs(intrinsic_freq[0,10,100].compute()),z[0,0].compute())\n",
    "plt.plot(f[0,10].compute(),z[0,0].compute(),label='maximum frequency')\n",
    "plt.legend()"
   ]
  },
  {
   "cell_type": "code",
   "execution_count": null,
   "metadata": {},
   "outputs": [],
   "source": [
    "\n",
    "tir_idx = da.where(\n",
    "    tir.any(axis=-1, keepdims=True),\n",
    "    da.argmax(tir, axis=-1, keepdims=True),\n",
    "    tir.shape[-1]+1,\n",
    ")"
   ]
  },
  {
   "cell_type": "code",
   "execution_count": null,
   "metadata": {},
   "outputs": [],
   "source": [
    "\n",
    "Fs0 = 4e-3\n",
    "def intermittency(rho_source, u=None):\n",
    "    return (Fs0 * dc) / (\n",
    "        rho_source * da.sum(da.abs(source_spectrum(c0, u))*dc, axis=-1)\n",
    "    )\n",
    "\n",
    "eps = intermittency(rho_0,u_0)\n",
    "\n"
   ]
  },
  {
   "cell_type": "code",
   "execution_count": null,
   "metadata": {},
   "outputs": [],
   "source": [
    "Q0 = (2 * Ns[..., None, :] * spectrum[..., :, None] * rho_0[..., None, None]) / (\n",
    "rho[..., None, :]\n",
    "* kwv\n",
    "* (c0[..., :, None] - u[..., None, :]) ** 3\n",
    ")  # batch_shape, c,z\n",
    "signchange = (c0[..., :, None] - u[..., None, :]) * (c0[...,:,None] - u_0[..., None,None]) <= 0\n",
    "breaking_waves = ((Q0 >= 1) | (signchange)) & (level_idx >= source_levels)[..., None, :]"
   ]
  },
  {
   "cell_type": "code",
   "execution_count": null,
   "metadata": {},
   "outputs": [
    {
     "data": {
      "text/plain": [
       "<matplotlib.colorbar.Colorbar at 0x317b59fd0>"
      ]
     },
     "execution_count": 18,
     "metadata": {},
     "output_type": "execute_result"
    },
    {
     "data": {
      "image/png": "[encoded data removed]",
      "text/plain": [
       "<Figure size 640x480 with 2 Axes>"
      ]
     },
     "metadata": {},
     "output_type": "display_data"
    }
   ],
   "source": [
    "plt.pcolormesh(*np.meshgrid(c0,z[0,10].compute(),indexing='xy'),breaking_waves[0,10].T.compute(),shading='nearest',vmin=0,vmax=1)\n",
    "plt.axvline(u_0[0,10].compute(),color='k',linestyle='--')\n",
    "plt.colorbar()"
   ]
  },
  {
   "cell_type": "code",
   "execution_count": null,
   "metadata": {},
   "outputs": [
    {
     "data": {
      "text/plain": [
       "np.float32(3.8016508)"
      ]
     },
     "execution_count": 19,
     "metadata": {},
     "output_type": "execute_result"
    }
   ],
   "source": [
    "u_0[0,0].compute()"
   ]
  },
  {
   "cell_type": "code",
   "execution_count": null,
   "metadata": {},
   "outputs": [],
   "source": [
    "breaking_idx = da.where(\n",
    "    breaking_waves.any(axis=-1, keepdims=True),\n",
    "    da.argmax(breaking_waves, axis=-1, keepdims=True),\n",
    "    breaking_waves.shape[-1],\n",
    ")\n",
    "true_breaking_idx = da.where(breaking_idx < tir_idx, breaking_idx, -1)\n",
    "true_reflecting_idx = da.where(tir_idx <= breaking_idx,tir_idx,-1)"
   ]
  },
  {
   "cell_type": "code",
   "execution_count": null,
   "metadata": {},
   "outputs": [
    {
     "data": {
      "text/plain": [
       "array([[-1],\n",
       "       [-1],\n",
       "       [-1],\n",
       "       [-1],\n",
       "       [-1],\n",
       "       [-1],\n",
       "       [-1],\n",
       "       [-1],\n",
       "       [-1],\n",
       "       [-1],\n",
       "       [-1],\n",
       "       [-1],\n",
       "       [-1],\n",
       "       [-1],\n",
       "       [-1],\n",
       "       [-1],\n",
       "       [-1],\n",
       "       [-1],\n",
       "       [-1],\n",
       "       [-1],\n",
       "       [-1],\n",
       "       [-1],\n",
       "       [-1],\n",
       "       [-1],\n",
       "       [-1],\n",
       "       [-1],\n",
       "       [-1],\n",
       "       [-1],\n",
       "       [-1],\n",
       "       [-1],\n",
       "       [-1],\n",
       "       [-1],\n",
       "       [-1],\n",
       "       [-1],\n",
       "       [-1],\n",
       "       [-1],\n",
       "       [-1],\n",
       "       [-1],\n",
       "       [-1],\n",
       "       [-1],\n",
       "       [-1],\n",
       "       [-1],\n",
       "       [-1],\n",
       "       [-1],\n",
       "       [-1],\n",
       "       [-1],\n",
       "       [-1],\n",
       "       [-1],\n",
       "       [-1],\n",
       "       [-1],\n",
       "       [-1],\n",
       "       [-1],\n",
       "       [-1],\n",
       "       [-1],\n",
       "       [-1],\n",
       "       [-1],\n",
       "       [-1],\n",
       "       [-1],\n",
       "       [-1],\n",
       "       [-1],\n",
       "       [-1],\n",
       "       [-1],\n",
       "       [-1],\n",
       "       [-1],\n",
       "       [-1],\n",
       "       [-1],\n",
       "       [-1],\n",
       "       [-1],\n",
       "       [-1],\n",
       "       [-1],\n",
       "       [-1],\n",
       "       [-1],\n",
       "       [-1],\n",
       "       [-1],\n",
       "       [-1],\n",
       "       [-1],\n",
       "       [-1],\n",
       "       [-1],\n",
       "       [-1],\n",
       "       [-1],\n",
       "       [-1],\n",
       "       [-1],\n",
       "       [-1],\n",
       "       [-1],\n",
       "       [-1],\n",
       "       [-1],\n",
       "       [-1],\n",
       "       [-1],\n",
       "       [-1],\n",
       "       [-1],\n",
       "       [-1],\n",
       "       [-1],\n",
       "       [-1],\n",
       "       [-1],\n",
       "       [-1],\n",
       "       [-1],\n",
       "       [-1],\n",
       "       [-1],\n",
       "       [-1],\n",
       "       [-1],\n",
       "       [-1],\n",
       "       [-1],\n",
       "       [-1],\n",
       "       [-1],\n",
       "       [-1],\n",
       "       [-1],\n",
       "       [-1],\n",
       "       [-1],\n",
       "       [-1],\n",
       "       [-1],\n",
       "       [-1],\n",
       "       [-1],\n",
       "       [-1],\n",
       "       [-1],\n",
       "       [-1],\n",
       "       [-1],\n",
       "       [-1],\n",
       "       [-1],\n",
       "       [-1],\n",
       "       [-1],\n",
       "       [-1],\n",
       "       [-1],\n",
       "       [-1],\n",
       "       [-1],\n",
       "       [-1],\n",
       "       [-1],\n",
       "       [-1],\n",
       "       [-1],\n",
       "       [-1],\n",
       "       [-1],\n",
       "       [-1],\n",
       "       [-1],\n",
       "       [-1],\n",
       "       [-1],\n",
       "       [-1],\n",
       "       [-1],\n",
       "       [-1],\n",
       "       [-1],\n",
       "       [-1],\n",
       "       [-1],\n",
       "       [-1],\n",
       "       [-1],\n",
       "       [-1],\n",
       "       [-1],\n",
       "       [-1],\n",
       "       [-1],\n",
       "       [-1],\n",
       "       [-1],\n",
       "       [-1],\n",
       "       [-1],\n",
       "       [-1],\n",
       "       [-1],\n",
       "       [-1],\n",
       "       [-1],\n",
       "       [-1],\n",
       "       [-1],\n",
       "       [-1],\n",
       "       [-1],\n",
       "       [-1],\n",
       "       [-1],\n",
       "       [-1],\n",
       "       [-1],\n",
       "       [-1],\n",
       "       [-1],\n",
       "       [-1],\n",
       "       [-1],\n",
       "       [-1]])"
      ]
     },
     "execution_count": 21,
     "metadata": {},
     "output_type": "execute_result"
    }
   ],
   "source": [
    "true_reflecting_idx[0,0].compute()"
   ]
  },
  {
   "cell_type": "code",
   "execution_count": null,
   "metadata": {},
   "outputs": [
    {
     "data": {
      "text/html": [
       "<table>\n",
       "    <tr>\n",
       "        <td>\n",
       "            <table style=\"border-collapse: collapse;\">\n",
       "                <thead>\n",
       "                    <tr>\n",
       "                        <td> </td>\n",
       "                        <th> Array </th>\n",
       "                        <th> Chunk </th>\n",
       "                    </tr>\n",
       "                </thead>\n",
       "                <tbody>\n",
       "                    \n",
       "                    <tr>\n",
       "                        <th> Bytes </th>\n",
       "                        <td> 1.12 GiB </td>\n",
       "                        <td> 3.19 MiB </td>\n",
       "                    </tr>\n",
       "                    \n",
       "                    <tr>\n",
       "                        <th> Shape </th>\n",
       "                        <td> (360, 2504, 167, 1) </td>\n",
       "                        <td> (1, 2504, 167, 1) </td>\n",
       "                    </tr>\n",
       "                    <tr>\n",
       "                        <th> Dask graph </th>\n",
       "                        <td colspan=\"2\"> 360 chunks in 51 graph layers </td>\n",
       "                    </tr>\n",
       "                    <tr>\n",
       "                        <th> Data type </th>\n",
       "                        <td colspan=\"2\"> int64 numpy.ndarray </td>\n",
       "                    </tr>\n",
       "                </tbody>\n",
       "            </table>\n",
       "        </td>\n",
       "        <td>\n",
       "        <svg width=\"366\" height=\"156\" style=\"stroke:rgb(0,0,0);stroke-width:1\" >\n",
       "\n",
       "  <!-- Horizontal lines -->\n",
       "  <line x1=\"0\" y1=\"0\" x2=\"40\" y2=\"0\" style=\"stroke-width:2\" />\n",
       "  <line x1=\"0\" y1=\"25\" x2=\"40\" y2=\"25\" style=\"stroke-width:2\" />\n",
       "\n",
       "  <!-- Vertical lines -->\n",
       "  <line x1=\"0\" y1=\"0\" x2=\"0\" y2=\"25\" style=\"stroke-width:2\" />\n",
       "  <line x1=\"1\" y1=\"0\" x2=\"1\" y2=\"25\" />\n",
       "  <line x1=\"2\" y1=\"0\" x2=\"2\" y2=\"25\" />\n",
       "  <line x1=\"3\" y1=\"0\" x2=\"3\" y2=\"25\" />\n",
       "  <line x1=\"5\" y1=\"0\" x2=\"5\" y2=\"25\" />\n",
       "  <line x1=\"6\" y1=\"0\" x2=\"6\" y2=\"25\" />\n",
       "  <line x1=\"7\" y1=\"0\" x2=\"7\" y2=\"25\" />\n",
       "  <line x1=\"8\" y1=\"0\" x2=\"8\" y2=\"25\" />\n",
       "  <line x1=\"10\" y1=\"0\" x2=\"10\" y2=\"25\" />\n",
       "  <line x1=\"11\" y1=\"0\" x2=\"11\" y2=\"25\" />\n",
       "  <line x1=\"12\" y1=\"0\" x2=\"12\" y2=\"25\" />\n",
       "  <line x1=\"13\" y1=\"0\" x2=\"13\" y2=\"25\" />\n",
       "  <line x1=\"15\" y1=\"0\" x2=\"15\" y2=\"25\" />\n",
       "  <line x1=\"16\" y1=\"0\" x2=\"16\" y2=\"25\" />\n",
       "  <line x1=\"17\" y1=\"0\" x2=\"17\" y2=\"25\" />\n",
       "  <line x1=\"18\" y1=\"0\" x2=\"18\" y2=\"25\" />\n",
       "  <line x1=\"20\" y1=\"0\" x2=\"20\" y2=\"25\" />\n",
       "  <line x1=\"21\" y1=\"0\" x2=\"21\" y2=\"25\" />\n",
       "  <line x1=\"22\" y1=\"0\" x2=\"22\" y2=\"25\" />\n",
       "  <line x1=\"23\" y1=\"0\" x2=\"23\" y2=\"25\" />\n",
       "  <line x1=\"25\" y1=\"0\" x2=\"25\" y2=\"25\" />\n",
       "  <line x1=\"26\" y1=\"0\" x2=\"26\" y2=\"25\" />\n",
       "  <line x1=\"27\" y1=\"0\" x2=\"27\" y2=\"25\" />\n",
       "  <line x1=\"29\" y1=\"0\" x2=\"29\" y2=\"25\" />\n",
       "  <line x1=\"30\" y1=\"0\" x2=\"30\" y2=\"25\" />\n",
       "  <line x1=\"31\" y1=\"0\" x2=\"31\" y2=\"25\" />\n",
       "  <line x1=\"32\" y1=\"0\" x2=\"32\" y2=\"25\" />\n",
       "  <line x1=\"34\" y1=\"0\" x2=\"34\" y2=\"25\" />\n",
       "  <line x1=\"35\" y1=\"0\" x2=\"35\" y2=\"25\" />\n",
       "  <line x1=\"36\" y1=\"0\" x2=\"36\" y2=\"25\" />\n",
       "  <line x1=\"37\" y1=\"0\" x2=\"37\" y2=\"25\" />\n",
       "  <line x1=\"39\" y1=\"0\" x2=\"39\" y2=\"25\" />\n",
       "  <line x1=\"40\" y1=\"0\" x2=\"40\" y2=\"25\" style=\"stroke-width:2\" />\n",
       "\n",
       "  <!-- Colored Rectangle -->\n",
       "  <polygon points=\"0.0,0.0 40.49977413720502,0.0 40.49977413720502,25.412616514582485 0.0,25.412616514582485\" style=\"fill:#8B4903A0;stroke-width:0\"/>\n",
       "\n",
       "  <!-- Text -->\n",
       "  <text x=\"20.249887\" y=\"45.412617\" font-size=\"1.0rem\" font-weight=\"100\" text-anchor=\"middle\" >360</text>\n",
       "  <text x=\"60.499774\" y=\"12.706308\" font-size=\"1.0rem\" font-weight=\"100\" text-anchor=\"middle\" transform=\"rotate(0,60.499774,12.706308)\">1</text>\n",
       "\n",
       "\n",
       "  <!-- Horizontal lines -->\n",
       "  <line x1=\"110\" y1=\"0\" x2=\"180\" y2=\"70\" style=\"stroke-width:2\" />\n",
       "  <line x1=\"110\" y1=\"36\" x2=\"180\" y2=\"106\" style=\"stroke-width:2\" />\n",
       "\n",
       "  <!-- Vertical lines -->\n",
       "  <line x1=\"110\" y1=\"0\" x2=\"110\" y2=\"36\" style=\"stroke-width:2\" />\n",
       "  <line x1=\"180\" y1=\"70\" x2=\"180\" y2=\"106\" style=\"stroke-width:2\" />\n",
       "\n",
       "  <!-- Colored Rectangle -->\n",
       "  <polygon points=\"110.0,0.0 180.58823529411765,70.58823529411765 180.58823529411765,106.8384584572057 110.0,36.25022316308805\" style=\"fill:#ECB172A0;stroke-width:0\"/>\n",
       "\n",
       "  <!-- Horizontal lines -->\n",
       "  <line x1=\"110\" y1=\"0\" x2=\"135\" y2=\"0\" style=\"stroke-width:2\" />\n",
       "  <line x1=\"180\" y1=\"70\" x2=\"206\" y2=\"70\" style=\"stroke-width:2\" />\n",
       "\n",
       "  <!-- Vertical lines -->\n",
       "  <line x1=\"110\" y1=\"0\" x2=\"180\" y2=\"70\" style=\"stroke-width:2\" />\n",
       "  <line x1=\"135\" y1=\"0\" x2=\"206\" y2=\"70\" style=\"stroke-width:2\" />\n",
       "\n",
       "  <!-- Colored Rectangle -->\n",
       "  <polygon points=\"110.0,0.0 135.41261651458248,0.0 206.00085180870013,70.58823529411765 180.58823529411765,70.58823529411765\" style=\"fill:#ECB172A0;stroke-width:0\"/>\n",
       "\n",
       "  <!-- Horizontal lines -->\n",
       "  <line x1=\"180\" y1=\"70\" x2=\"206\" y2=\"70\" style=\"stroke-width:2\" />\n",
       "  <line x1=\"180\" y1=\"106\" x2=\"206\" y2=\"106\" style=\"stroke-width:2\" />\n",
       "\n",
       "  <!-- Vertical lines -->\n",
       "  <line x1=\"180\" y1=\"70\" x2=\"180\" y2=\"106\" style=\"stroke-width:2\" />\n",
       "  <line x1=\"206\" y1=\"70\" x2=\"206\" y2=\"106\" style=\"stroke-width:2\" />\n",
       "\n",
       "  <!-- Colored Rectangle -->\n",
       "  <polygon points=\"180.58823529411765,70.58823529411765 206.00085180870013,70.58823529411765 206.00085180870013,106.8384584572057 180.58823529411765,106.8384584572057\" style=\"fill:#ECB172A0;stroke-width:0\"/>\n",
       "\n",
       "  <!-- Text -->\n",
       "  <text x=\"193.294544\" y=\"126.838458\" font-size=\"1.0rem\" font-weight=\"100\" text-anchor=\"middle\" >1</text>\n",
       "  <text x=\"226.000852\" y=\"88.713347\" font-size=\"1.0rem\" font-weight=\"100\" text-anchor=\"middle\" transform=\"rotate(-90,226.000852,88.713347)\">167</text>\n",
       "  <text x=\"135.294118\" y=\"91.544341\" font-size=\"1.0rem\" font-weight=\"100\" text-anchor=\"middle\" transform=\"rotate(45,135.294118,91.544341)\">2504</text>\n",
       "</svg>\n",
       "        </td>\n",
       "    </tr>\n",
       "</table>"
      ],
      "text/plain": [
       "dask.array<where, shape=(360, 2504, 167, 1), dtype=int64, chunksize=(1, 2504, 167, 1), chunktype=numpy.ndarray>"
      ]
     },
     "execution_count": 22,
     "metadata": {},
     "output_type": "execute_result"
    }
   ],
   "source": [
    "tir_idx "
   ]
  },
  {
   "cell_type": "code",
   "execution_count": null,
   "metadata": {},
   "outputs": [],
   "source": [
    "breaking = (true_breaking_idx == level_idx[...,None,:]) & (level_idx >source_levels)[...,None,:]\n",
    "reflecting = (true_reflecting_idx == level_idx[...,None,:])\n",
    "topwaves = (true_breaking_idx == z.shape[-1])\n",
    "source_unstable = (true_breaking_idx == source_levels[...,None,:])"
   ]
  },
  {
   "cell_type": "code",
   "execution_count": null,
   "metadata": {},
   "outputs": [],
   "source": [
    "b = breaking[0,0].compute()\n",
    "r = reflecting[0,0].compute()"
   ]
  },
  {
   "cell_type": "code",
   "execution_count": null,
   "metadata": {},
   "outputs": [
    {
     "data": {
      "text/plain": [
       "[<matplotlib.lines.Line2D at 0x31779e850>]"
      ]
     },
     "execution_count": 25,
     "metadata": {},
     "output_type": "execute_result"
    },
    {
     "data": {
      "image/png": "[encoded data removed]",
      "text/plain": [
       "<Figure size 640x480 with 1 Axes>"
      ]
     },
     "metadata": {},
     "output_type": "display_data"
    }
   ],
   "source": [
    "plt.plot(breaking_idx[0,0].compute())"
   ]
  },
  {
   "cell_type": "code",
   "execution_count": null,
   "metadata": {},
   "outputs": [
    {
     "data": {
      "text/plain": [
       "<matplotlib.collections.QuadMesh at 0x35f3e1d10>"
      ]
     },
     "execution_count": 26,
     "metadata": {},
     "output_type": "execute_result"
    },
    {
     "data": {
      "image/png": "[encoded data removed]",
      "text/plain": [
       "<Figure size 640x480 with 1 Axes>"
      ]
     },
     "metadata": {},
     "output_type": "display_data"
    }
   ],
   "source": [
    "plt.pcolormesh(*np.meshgrid(c0,z[0,0].compute(),indexing='xy'),b.T,shading='nearest',vmin=0,vmax=1)"
   ]
  },
  {
   "cell_type": "code",
   "execution_count": null,
   "metadata": {},
   "outputs": [],
   "source": [
    "F0 = da.sum(breaking*rho_0[...,None,None] * spectrum[...,None],axis=-2)\n",
    "rho_half = da.concatenate([rho_0[...,None],np.sqrt(rho[...,1:]*rho[...,:-1])],axis=-1)\n",
    "half_lvl_drag = F0 * eps[...,None]/ (rho_half * dz)\n",
    "full_lvl_drag = da.concatenate([0.5*(half_lvl_drag[...,1:] + half_lvl_drag[...,:-1]),0.5*half_lvl_drag[...,-1][...,None]],axis=-1)\n",
    "full_lvl_drag = full_lvl_drag.rechunk(z.chunks)\n"
   ]
  },
  {
   "cell_type": "code",
   "execution_count": null,
   "metadata": {},
   "outputs": [],
   "source": [
    "fd = full_lvl_drag.compute()"
   ]
  },
  {
   "cell_type": "markdown",
   "metadata": {},
   "source": [
    "## Vectorized TIME"
   ]
  },
  {
   "cell_type": "markdown",
   "metadata": {},
   "source": [
    "#### DASK"
   ]
  },
  {
   "cell_type": "code",
   "execution_count": 5,
   "metadata": {},
   "outputs": [],
   "source": [
    "from ad99dask import AlexanderDunkerton1999Dask\n",
    "ad99_nvr = AlexanderDunkerton1999Dask(dc=0.4,exclude_unbroken=True,use_intrinsic_c='never')\n",
    "ad99_alw = AlexanderDunkerton1999Dask(dc=0.4,exclude_unbroken=True,use_intrinsic_c='always')\n",
    "ad99_dask = AlexanderDunkerton1999Dask(exclude_unbroken=True)\n"
   ]
  },
  {
   "cell_type": "code",
   "execution_count": 6,
   "metadata": {},
   "outputs": [],
   "source": [
    "gwd_dask = ad99_dask.gwd(u,Ns,z,rho,lat)"
   ]
  },
  {
   "cell_type": "code",
   "execution_count": 9,
   "metadata": {},
   "outputs": [
    {
     "data": {
      "text/html": [
       "<table>\n",
       "    <tr>\n",
       "        <td>\n",
       "            <table style=\"border-collapse: collapse;\">\n",
       "                <thead>\n",
       "                    <tr>\n",
       "                        <td> </td>\n",
       "                        <th> Array </th>\n",
       "                        <th> Chunk </th>\n",
       "                    </tr>\n",
       "                </thead>\n",
       "                <tbody>\n",
       "                    \n",
       "                    <tr>\n",
       "                        <th> Bytes </th>\n",
       "                        <td> 137.55 MiB </td>\n",
       "                        <td> 391.25 kiB </td>\n",
       "                    </tr>\n",
       "                    \n",
       "                    <tr>\n",
       "                        <th> Shape </th>\n",
       "                        <td> (360, 2504, 40) </td>\n",
       "                        <td> (1, 2504, 40) </td>\n",
       "                    </tr>\n",
       "                    <tr>\n",
       "                        <th> Dask graph </th>\n",
       "                        <td colspan=\"2\"> 360 chunks in 1 graph layer </td>\n",
       "                    </tr>\n",
       "                    <tr>\n",
       "                        <th> Data type </th>\n",
       "                        <td colspan=\"2\"> float32 numpy.ndarray </td>\n",
       "                    </tr>\n",
       "                </tbody>\n",
       "            </table>\n",
       "        </td>\n",
       "        <td>\n",
       "        <svg width=\"111\" height=\"193\" style=\"stroke:rgb(0,0,0);stroke-width:1\" >\n",
       "\n",
       "  <!-- Horizontal lines -->\n",
       "  <line x1=\"10\" y1=\"0\" x2=\"33\" y2=\"23\" style=\"stroke-width:2\" />\n",
       "  <line x1=\"10\" y1=\"120\" x2=\"33\" y2=\"143\" style=\"stroke-width:2\" />\n",
       "\n",
       "  <!-- Vertical lines -->\n",
       "  <line x1=\"10\" y1=\"0\" x2=\"10\" y2=\"120\" style=\"stroke-width:2\" />\n",
       "  <line x1=\"11\" y1=\"1\" x2=\"11\" y2=\"121\" />\n",
       "  <line x1=\"12\" y1=\"2\" x2=\"12\" y2=\"122\" />\n",
       "  <line x1=\"13\" y1=\"3\" x2=\"13\" y2=\"123\" />\n",
       "  <line x1=\"14\" y1=\"4\" x2=\"14\" y2=\"124\" />\n",
       "  <line x1=\"16\" y1=\"6\" x2=\"16\" y2=\"126\" />\n",
       "  <line x1=\"17\" y1=\"7\" x2=\"17\" y2=\"127\" />\n",
       "  <line x1=\"18\" y1=\"8\" x2=\"18\" y2=\"128\" />\n",
       "  <line x1=\"19\" y1=\"9\" x2=\"19\" y2=\"129\" />\n",
       "  <line x1=\"21\" y1=\"11\" x2=\"21\" y2=\"131\" />\n",
       "  <line x1=\"22\" y1=\"12\" x2=\"22\" y2=\"132\" />\n",
       "  <line x1=\"23\" y1=\"13\" x2=\"23\" y2=\"133\" />\n",
       "  <line x1=\"25\" y1=\"15\" x2=\"25\" y2=\"135\" />\n",
       "  <line x1=\"26\" y1=\"16\" x2=\"26\" y2=\"136\" />\n",
       "  <line x1=\"27\" y1=\"17\" x2=\"27\" y2=\"137\" />\n",
       "  <line x1=\"28\" y1=\"18\" x2=\"28\" y2=\"138\" />\n",
       "  <line x1=\"30\" y1=\"20\" x2=\"30\" y2=\"140\" />\n",
       "  <line x1=\"31\" y1=\"21\" x2=\"31\" y2=\"141\" />\n",
       "  <line x1=\"32\" y1=\"22\" x2=\"32\" y2=\"142\" />\n",
       "  <line x1=\"33\" y1=\"23\" x2=\"33\" y2=\"143\" style=\"stroke-width:2\" />\n",
       "\n",
       "  <!-- Colored Rectangle -->\n",
       "  <polygon points=\"10.0,0.0 33.82339655129707,23.823396551297073 33.82339655129707,143.82339655129707 10.0,120.0\" style=\"fill:#8B4903A0;stroke-width:0\"/>\n",
       "\n",
       "  <!-- Horizontal lines -->\n",
       "  <line x1=\"10\" y1=\"0\" x2=\"37\" y2=\"0\" style=\"stroke-width:2\" />\n",
       "  <line x1=\"11\" y1=\"1\" x2=\"38\" y2=\"1\" />\n",
       "  <line x1=\"12\" y1=\"2\" x2=\"40\" y2=\"2\" />\n",
       "  <line x1=\"13\" y1=\"3\" x2=\"41\" y2=\"3\" />\n",
       "  <line x1=\"14\" y1=\"4\" x2=\"42\" y2=\"4\" />\n",
       "  <line x1=\"16\" y1=\"6\" x2=\"44\" y2=\"6\" />\n",
       "  <line x1=\"17\" y1=\"7\" x2=\"45\" y2=\"7\" />\n",
       "  <line x1=\"18\" y1=\"8\" x2=\"46\" y2=\"8\" />\n",
       "  <line x1=\"19\" y1=\"9\" x2=\"47\" y2=\"9\" />\n",
       "  <line x1=\"21\" y1=\"11\" x2=\"49\" y2=\"11\" />\n",
       "  <line x1=\"22\" y1=\"12\" x2=\"50\" y2=\"12\" />\n",
       "  <line x1=\"23\" y1=\"13\" x2=\"51\" y2=\"13\" />\n",
       "  <line x1=\"25\" y1=\"15\" x2=\"52\" y2=\"15\" />\n",
       "  <line x1=\"26\" y1=\"16\" x2=\"54\" y2=\"16\" />\n",
       "  <line x1=\"27\" y1=\"17\" x2=\"55\" y2=\"17\" />\n",
       "  <line x1=\"28\" y1=\"18\" x2=\"56\" y2=\"18\" />\n",
       "  <line x1=\"30\" y1=\"20\" x2=\"57\" y2=\"20\" />\n",
       "  <line x1=\"31\" y1=\"21\" x2=\"59\" y2=\"21\" />\n",
       "  <line x1=\"32\" y1=\"22\" x2=\"60\" y2=\"22\" />\n",
       "  <line x1=\"33\" y1=\"23\" x2=\"61\" y2=\"23\" style=\"stroke-width:2\" />\n",
       "\n",
       "  <!-- Vertical lines -->\n",
       "  <line x1=\"10\" y1=\"0\" x2=\"33\" y2=\"23\" style=\"stroke-width:2\" />\n",
       "  <line x1=\"37\" y1=\"0\" x2=\"61\" y2=\"23\" style=\"stroke-width:2\" />\n",
       "\n",
       "  <!-- Colored Rectangle -->\n",
       "  <polygon points=\"10.0,0.0 37.79393870796601,0.0 61.61733525926308,23.823396551297073 33.82339655129707,23.823396551297073\" style=\"fill:#8B4903A0;stroke-width:0\"/>\n",
       "\n",
       "  <!-- Horizontal lines -->\n",
       "  <line x1=\"33\" y1=\"23\" x2=\"61\" y2=\"23\" style=\"stroke-width:2\" />\n",
       "  <line x1=\"33\" y1=\"143\" x2=\"61\" y2=\"143\" style=\"stroke-width:2\" />\n",
       "\n",
       "  <!-- Vertical lines -->\n",
       "  <line x1=\"33\" y1=\"23\" x2=\"33\" y2=\"143\" style=\"stroke-width:2\" />\n",
       "  <line x1=\"61\" y1=\"23\" x2=\"61\" y2=\"143\" style=\"stroke-width:2\" />\n",
       "\n",
       "  <!-- Colored Rectangle -->\n",
       "  <polygon points=\"33.82339655129707,23.823396551297073 61.617335259263086,23.823396551297073 61.617335259263086,143.82339655129707 33.82339655129707,143.82339655129707\" style=\"fill:#ECB172A0;stroke-width:0\"/>\n",
       "\n",
       "  <!-- Text -->\n",
       "  <text x=\"47.720366\" y=\"163.823397\" font-size=\"1.0rem\" font-weight=\"100\" text-anchor=\"middle\" >40</text>\n",
       "  <text x=\"81.617335\" y=\"83.823397\" font-size=\"1.0rem\" font-weight=\"100\" text-anchor=\"middle\" transform=\"rotate(-90,81.617335,83.823397)\">2504</text>\n",
       "  <text x=\"11.911698\" y=\"151.911698\" font-size=\"1.0rem\" font-weight=\"100\" text-anchor=\"middle\" transform=\"rotate(45,11.911698,151.911698)\">360</text>\n",
       "</svg>\n",
       "        </td>\n",
       "    </tr>\n",
       "</table>"
      ],
      "text/plain": [
       "dask.array<rechunk-merge, shape=(360, 2504, 40), dtype=float32, chunksize=(1, 2504, 40), chunktype=numpy.ndarray>"
      ]
     },
     "execution_count": 9,
     "metadata": {},
     "output_type": "execute_result"
    }
   ],
   "source": [
    "gwd_dask.persist()"
   ]
  },
  {
   "cell_type": "markdown",
   "metadata": {},
   "source": [
    "#### numpy"
   ]
  },
  {
   "cell_type": "code",
   "execution_count": 10,
   "metadata": {},
   "outputs": [],
   "source": [
    "from ad99vec import AlexanderDunkerton1999Vectorized\n",
    "import dask\n",
    "ad99_vec = AlexanderDunkerton1999Vectorized(exclude_unbroken=True)\n",
    "u_vec,Ns_vec,z_vec,rho_vec = dask.compute(u,Ns,z,rho)\n",
    "lat_vec= lat.compute()"
   ]
  },
  {
   "cell_type": "code",
   "execution_count": 11,
   "metadata": {},
   "outputs": [
    {
     "ename": "",
     "evalue": "",
     "output_type": "error",
     "traceback": [
      "\u001b[1;31mThe Kernel crashed while executing code in the current cell or a previous cell. \n",
      "\u001b[1;31mPlease review the code in the cell(s) to identify a possible cause of the failure. \n",
      "\u001b[1;31mClick <a href='https://aka.ms/vscodeJupyterKernelCrash'>here</a> for more info. \n",
      "\u001b[1;31mView Jupyter <a href='command:jupyter.viewOutput'>log</a> for further details."
     ]
    }
   ],
   "source": [
    "gwd_vec = ad99_vec.gwd(u_vec,Ns_vec,z_vec,rho_vec,lat_vec)"
   ]
  },
  {
   "cell_type": "code",
   "execution_count": 1,
   "metadata": {},
   "outputs": [
    {
     "ename": "NameError",
     "evalue": "name 'gwd_vec' is not defined",
     "output_type": "error",
     "traceback": [
      "\u001b[31m---------------------------------------------------------------------------\u001b[39m",
      "\u001b[31mNameError\u001b[39m                                 Traceback (most recent call last)",
      "\u001b[36mCell\u001b[39m\u001b[36m \u001b[39m\u001b[32mIn[1]\u001b[39m\u001b[32m, line 1\u001b[39m\n\u001b[32m----> \u001b[39m\u001b[32m1\u001b[39m \u001b[43mgwd_vec\u001b[49m\n",
      "\u001b[31mNameError\u001b[39m: name 'gwd_vec' is not defined"
     ]
    }
   ],
   "source": [
    "gwd_vec"
   ]
  },
  {
   "cell_type": "markdown",
   "metadata": {},
   "source": [
    "## dask aware! ad99"
   ]
  },
  {
   "cell_type": "code",
   "execution_count": 24,
   "metadata": {},
   "outputs": [],
   "source": [
    "ad99 = AlexanderDunkerton1999(exclude_unbroken=True)"
   ]
  },
  {
   "cell_type": "code",
   "execution_count": null,
   "metadata": {},
   "outputs": [
    {
     "data": {
      "text/plain": [
       "<matplotlib.legend.Legend at 0x3609f9bd0>"
      ]
     },
     "execution_count": 36,
     "metadata": {},
     "output_type": "execute_result"
    },
    {
     "data": {
      "image/png": "[encoded data removed]",
      "text/plain": [
       "<Figure size 640x480 with 1 Axes>"
      ]
     },
     "metadata": {},
     "output_type": "display_data"
    }
   ],
   "source": [
    "ax = plt.axes()\n",
    "point = (10,30)\n",
    "\n",
    "single_col_gwd = ad99.gwd(u[*(point)],Ns[*(point)],z[*(point)],rho[*(point)],lat=lat[*(point)])\n",
    "ocean_expac.gwfu_cgwd[*(point)].plot(ax=ax,y='pfull',yincrease=False,yscale='log',label='mima')\n",
    "ax.plot(fd[*(point)],ocean_expac.pfull.data,label='ad99(dask) ')\n",
    "ax.plot(single_col_gwd,ocean_expac.pfull.data,linestyle='--',color='k',label='ad99(numpy)')\n",
    "\n",
    "plt.legend()"
   ]
  },
  {
   "cell_type": "code",
   "execution_count": null,
   "metadata": {},
   "outputs": [
    {
     "data": {
      "image/png": "[encoded data removed]",
      "text/plain": [
       "<Figure size 640x480 with 1 Axes>"
      ]
     },
     "metadata": {},
     "output_type": "display_data"
    }
   ],
   "source": [
    "drag = np.abs(fd[...,20].ravel())*3600\n",
    "plt.title(f'GWD drag at {ocean_expac.pfull.values[20]:.2f} hPa')\n",
    "plt.hist(drag[drag>0],bins=100,density=True)\n",
    "plt.yscale('log')"
   ]
  },
  {
   "cell_type": "code",
   "execution_count": null,
   "metadata": {},
   "outputs": [
    {
     "data": {
      "text/plain": [
       "(array([7.69511127e-05, 7.35310632e-04, 0.00000000e+00, 0.00000000e+00,\n",
       "        0.00000000e+00, 0.00000000e+00, 0.00000000e+00, 0.00000000e+00,\n",
       "        0.00000000e+00, 0.00000000e+00, 0.00000000e+00, 0.00000000e+00,\n",
       "        0.00000000e+00, 0.00000000e+00, 0.00000000e+00, 0.00000000e+00,\n",
       "        0.00000000e+00, 0.00000000e+00, 0.00000000e+00, 0.00000000e+00,\n",
       "        0.00000000e+00, 0.00000000e+00, 0.00000000e+00, 0.00000000e+00,\n",
       "        0.00000000e+00, 0.00000000e+00, 0.00000000e+00, 0.00000000e+00,\n",
       "        0.00000000e+00, 0.00000000e+00, 0.00000000e+00, 0.00000000e+00,\n",
       "        0.00000000e+00, 0.00000000e+00, 0.00000000e+00, 0.00000000e+00,\n",
       "        0.00000000e+00, 0.00000000e+00, 0.00000000e+00, 0.00000000e+00,\n",
       "        0.00000000e+00, 0.00000000e+00, 0.00000000e+00, 0.00000000e+00,\n",
       "        0.00000000e+00, 0.00000000e+00, 0.00000000e+00, 0.00000000e+00,\n",
       "        0.00000000e+00, 0.00000000e+00, 0.00000000e+00, 0.00000000e+00,\n",
       "        0.00000000e+00, 0.00000000e+00, 0.00000000e+00, 0.00000000e+00,\n",
       "        0.00000000e+00, 0.00000000e+00, 0.00000000e+00, 0.00000000e+00,\n",
       "        0.00000000e+00, 0.00000000e+00, 0.00000000e+00, 0.00000000e+00,\n",
       "        8.55012363e-06, 0.00000000e+00, 2.56503709e-05, 0.00000000e+00,\n",
       "        3.42004945e-05, 2.56503709e-05, 7.69511127e-05, 9.40513599e-05,\n",
       "        0.00000000e+00, 9.40513599e-05, 1.53902225e-04, 3.67655316e-04,\n",
       "        4.27506182e-05, 1.96652844e-04, 7.43860756e-04, 1.61597337e-03,\n",
       "        1.18846718e-03, 2.35128400e-03, 4.56576602e-03, 6.66909643e-03,\n",
       "        1.30132882e-02, 1.94344310e-02, 4.00060285e-02, 7.86953379e-02,\n",
       "        1.46677371e-01, 2.93987451e-01, 4.45931698e-01, 4.94633202e-01,\n",
       "        5.63068392e-01, 7.44168560e-01, 9.85624052e-01, 1.24315378e+00,\n",
       "        9.62855073e-01, 3.82010974e-01, 7.24622978e-02, 5.35237739e-03]),\n",
       " array([-1.33683231e+01, -1.32147166e+01, -1.30611101e+01, -1.29075036e+01,\n",
       "        -1.27538971e+01, -1.26002906e+01, -1.24466841e+01, -1.22930776e+01,\n",
       "        -1.21394711e+01, -1.19858646e+01, -1.18322581e+01, -1.16786516e+01,\n",
       "        -1.15250451e+01, -1.13714386e+01, -1.12178321e+01, -1.10642256e+01,\n",
       "        -1.09106191e+01, -1.07570126e+01, -1.06034061e+01, -1.04497996e+01,\n",
       "        -1.02961931e+01, -1.01425866e+01, -9.98898007e+00, -9.83537357e+00,\n",
       "        -9.68176707e+00, -9.52816057e+00, -9.37455406e+00, -9.22094756e+00,\n",
       "        -9.06734106e+00, -8.91373456e+00, -8.76012806e+00, -8.60652155e+00,\n",
       "        -8.45291505e+00, -8.29930855e+00, -8.14570205e+00, -7.99209555e+00,\n",
       "        -7.83848904e+00, -7.68488254e+00, -7.53127604e+00, -7.37766954e+00,\n",
       "        -7.22406304e+00, -7.07045653e+00, -6.91685003e+00, -6.76324353e+00,\n",
       "        -6.60963703e+00, -6.45603052e+00, -6.30242402e+00, -6.14881752e+00,\n",
       "        -5.99521102e+00, -5.84160452e+00, -5.68799801e+00, -5.53439151e+00,\n",
       "        -5.38078501e+00, -5.22717851e+00, -5.07357201e+00, -4.91996550e+00,\n",
       "        -4.76635900e+00, -4.61275250e+00, -4.45914600e+00, -4.30553950e+00,\n",
       "        -4.15193299e+00, -3.99832649e+00, -3.84471999e+00, -3.69111349e+00,\n",
       "        -3.53750699e+00, -3.38390048e+00, -3.23029398e+00, -3.07668748e+00,\n",
       "        -2.92308098e+00, -2.76947448e+00, -2.61586797e+00, -2.46226147e+00,\n",
       "        -2.30865497e+00, -2.15504847e+00, -2.00144196e+00, -1.84783546e+00,\n",
       "        -1.69422896e+00, -1.54062246e+00, -1.38701596e+00, -1.23340945e+00,\n",
       "        -1.07980295e+00, -9.26196450e-01, -7.72589948e-01, -6.18983446e-01,\n",
       "        -4.65376944e-01, -3.11770442e-01, -1.58163940e-01, -4.55743755e-03,\n",
       "         1.49049065e-01,  3.02655567e-01,  4.56262069e-01,  6.09868571e-01,\n",
       "         7.63475073e-01,  9.17081575e-01,  1.07068808e+00,  1.22429458e+00,\n",
       "         1.37790108e+00,  1.53150758e+00,  1.68511409e+00,  1.83872059e+00,\n",
       "         1.99232709e+00]),\n",
       " <BarContainer object of 100 artists>)"
      ]
     },
     "execution_count": 38,
     "metadata": {},
     "output_type": "execute_result"
    },
    {
     "data": {
      "image/png": "[encoded data removed]",
      "text/plain": [
       "<Figure size 640x480 with 1 Axes>"
      ]
     },
     "metadata": {},
     "output_type": "display_data"
    }
   ],
   "source": [
    "plt.title(f'GWD drag at {ocean_expac.pfull.values[20]:.2f} hPa')\n",
    "plt.hist(np.log10(3600*drag[drag>0]),bins=100,density=True)\n"
   ]
  },
  {
   "cell_type": "markdown",
   "metadata": {},
   "source": [
    "### momentum flux"
   ]
  },
  {
   "cell_type": "code",
   "execution_count": 6,
   "metadata": {},
   "outputs": [
    {
     "name": "stderr",
     "output_type": "stream",
     "text": [
      "Exception ignored in: <bound method IPythonKernel._clean_thread_parent_frames of <ipykernel.ipkernel.IPythonKernel object at 0x1101becf0>>\n",
      "Traceback (most recent call last):\n",
      "  File \"/Users/robcking/miniconda3/envs/loon_gw/lib/python3.13/site-packages/ipykernel/ipkernel.py\", line 775, in _clean_thread_parent_frames\n",
      "    def _clean_thread_parent_frames(\n",
      "KeyboardInterrupt: \n"
     ]
    },
    {
     "ename": "",
     "evalue": "",
     "output_type": "error",
     "traceback": [
      "\u001b[1;31mCannot execute code, session has been disposed. Please try restarting the Kernel."
     ]
    },
    {
     "ename": "",
     "evalue": "",
     "output_type": "error",
     "traceback": [
      "\u001b[1;31mCannot execute code, session has been disposed. Please try restarting the Kernel. \n",
      "\u001b[1;31mView Jupyter <a href='command:jupyter.viewOutput'>log</a> for further details."
     ]
    }
   ],
   "source": [
    "import dask\n",
    "from dask.diagnostics import ProgressBar\n",
    "fntv,fptv = ad99_dask.momentum_flux_neg_ptv(u,Ns,z,rho,lat=lat)\n",
    "fntv_nvr,fptv_nvr = ad99_nvr.momentum_flux_neg_ptv(u,Ns,z,rho,lat=lat)\n",
    "fntv_alw,fptv_alw = ad99_alw.momentum_flux_neg_ptv(u,Ns,z,rho,lat=lat)\n",
    "\n",
    "fptv,ftnv = dask.persist(fptv,fntv)\n",
    "fptv_nvr = fptv_nvr.persist()\n",
    "fptv_alw = fptv_alw.persist()\n",
    "\n"
   ]
  },
  {
   "cell_type": "code",
   "execution_count": 7,
   "metadata": {},
   "outputs": [],
   "source": [
    "fntv,fptv = ad99_dask.momentum_flux_neg_ptv(u,Ns,z,rho,lat=lat)"
   ]
  },
  {
   "cell_type": "code",
   "execution_count": 12,
   "metadata": {},
   "outputs": [],
   "source": [
    "source_levels = ad99_dask.get_source_level(z,lat=lat)"
   ]
  },
  {
   "cell_type": "code",
   "execution_count": 13,
   "metadata": {},
   "outputs": [
    {
     "data": {
      "text/html": [
       "<table>\n",
       "    <tr>\n",
       "        <td>\n",
       "            <table style=\"border-collapse: collapse;\">\n",
       "                <thead>\n",
       "                    <tr>\n",
       "                        <td> </td>\n",
       "                        <th> Array </th>\n",
       "                        <th> Chunk </th>\n",
       "                    </tr>\n",
       "                </thead>\n",
       "                <tbody>\n",
       "                    \n",
       "                    <tr>\n",
       "                        <th> Bytes </th>\n",
       "                        <td> 6.88 MiB </td>\n",
       "                        <td> 7.81 kiB </td>\n",
       "                    </tr>\n",
       "                    \n",
       "                    <tr>\n",
       "                        <th> Shape </th>\n",
       "                        <td> (360, 2504, 1) </td>\n",
       "                        <td> (1, 1000, 1) </td>\n",
       "                    </tr>\n",
       "                    <tr>\n",
       "                        <th> Dask graph </th>\n",
       "                        <td colspan=\"2\"> 1080 chunks in 11 graph layers </td>\n",
       "                    </tr>\n",
       "                    <tr>\n",
       "                        <th> Data type </th>\n",
       "                        <td colspan=\"2\"> int64 numpy.ndarray </td>\n",
       "                    </tr>\n",
       "                </tbody>\n",
       "            </table>\n",
       "        </td>\n",
       "        <td>\n",
       "        <svg width=\"109\" height=\"193\" style=\"stroke:rgb(0,0,0);stroke-width:1\" >\n",
       "\n",
       "  <!-- Horizontal lines -->\n",
       "  <line x1=\"10\" y1=\"0\" x2=\"33\" y2=\"23\" style=\"stroke-width:2\" />\n",
       "  <line x1=\"10\" y1=\"47\" x2=\"33\" y2=\"71\" />\n",
       "  <line x1=\"10\" y1=\"95\" x2=\"33\" y2=\"119\" />\n",
       "  <line x1=\"10\" y1=\"120\" x2=\"33\" y2=\"143\" style=\"stroke-width:2\" />\n",
       "\n",
       "  <!-- Vertical lines -->\n",
       "  <line x1=\"10\" y1=\"0\" x2=\"10\" y2=\"120\" style=\"stroke-width:2\" />\n",
       "  <line x1=\"11\" y1=\"1\" x2=\"11\" y2=\"121\" />\n",
       "  <line x1=\"12\" y1=\"2\" x2=\"12\" y2=\"122\" />\n",
       "  <line x1=\"13\" y1=\"3\" x2=\"13\" y2=\"123\" />\n",
       "  <line x1=\"14\" y1=\"4\" x2=\"14\" y2=\"124\" />\n",
       "  <line x1=\"16\" y1=\"6\" x2=\"16\" y2=\"126\" />\n",
       "  <line x1=\"17\" y1=\"7\" x2=\"17\" y2=\"127\" />\n",
       "  <line x1=\"18\" y1=\"8\" x2=\"18\" y2=\"128\" />\n",
       "  <line x1=\"19\" y1=\"9\" x2=\"19\" y2=\"129\" />\n",
       "  <line x1=\"21\" y1=\"11\" x2=\"21\" y2=\"131\" />\n",
       "  <line x1=\"22\" y1=\"12\" x2=\"22\" y2=\"132\" />\n",
       "  <line x1=\"23\" y1=\"13\" x2=\"23\" y2=\"133\" />\n",
       "  <line x1=\"25\" y1=\"15\" x2=\"25\" y2=\"135\" />\n",
       "  <line x1=\"26\" y1=\"16\" x2=\"26\" y2=\"136\" />\n",
       "  <line x1=\"27\" y1=\"17\" x2=\"27\" y2=\"137\" />\n",
       "  <line x1=\"28\" y1=\"18\" x2=\"28\" y2=\"138\" />\n",
       "  <line x1=\"30\" y1=\"20\" x2=\"30\" y2=\"140\" />\n",
       "  <line x1=\"31\" y1=\"21\" x2=\"31\" y2=\"141\" />\n",
       "  <line x1=\"32\" y1=\"22\" x2=\"32\" y2=\"142\" />\n",
       "  <line x1=\"33\" y1=\"23\" x2=\"33\" y2=\"143\" style=\"stroke-width:2\" />\n",
       "\n",
       "  <!-- Colored Rectangle -->\n",
       "  <polygon points=\"10.0,0.0 33.82339655129707,23.823396551297073 33.82339655129707,143.82339655129707 10.0,120.0\" style=\"fill:#8B4903A0;stroke-width:0\"/>\n",
       "\n",
       "  <!-- Horizontal lines -->\n",
       "  <line x1=\"10\" y1=\"0\" x2=\"35\" y2=\"0\" style=\"stroke-width:2\" />\n",
       "  <line x1=\"11\" y1=\"1\" x2=\"36\" y2=\"1\" />\n",
       "  <line x1=\"12\" y1=\"2\" x2=\"37\" y2=\"2\" />\n",
       "  <line x1=\"13\" y1=\"3\" x2=\"39\" y2=\"3\" />\n",
       "  <line x1=\"14\" y1=\"4\" x2=\"40\" y2=\"4\" />\n",
       "  <line x1=\"16\" y1=\"6\" x2=\"41\" y2=\"6\" />\n",
       "  <line x1=\"17\" y1=\"7\" x2=\"42\" y2=\"7\" />\n",
       "  <line x1=\"18\" y1=\"8\" x2=\"44\" y2=\"8\" />\n",
       "  <line x1=\"19\" y1=\"9\" x2=\"45\" y2=\"9\" />\n",
       "  <line x1=\"21\" y1=\"11\" x2=\"46\" y2=\"11\" />\n",
       "  <line x1=\"22\" y1=\"12\" x2=\"47\" y2=\"12\" />\n",
       "  <line x1=\"23\" y1=\"13\" x2=\"49\" y2=\"13\" />\n",
       "  <line x1=\"25\" y1=\"15\" x2=\"50\" y2=\"15\" />\n",
       "  <line x1=\"26\" y1=\"16\" x2=\"51\" y2=\"16\" />\n",
       "  <line x1=\"27\" y1=\"17\" x2=\"52\" y2=\"17\" />\n",
       "  <line x1=\"28\" y1=\"18\" x2=\"54\" y2=\"18\" />\n",
       "  <line x1=\"30\" y1=\"20\" x2=\"55\" y2=\"20\" />\n",
       "  <line x1=\"31\" y1=\"21\" x2=\"56\" y2=\"21\" />\n",
       "  <line x1=\"32\" y1=\"22\" x2=\"57\" y2=\"22\" />\n",
       "  <line x1=\"33\" y1=\"23\" x2=\"59\" y2=\"23\" style=\"stroke-width:2\" />\n",
       "\n",
       "  <!-- Vertical lines -->\n",
       "  <line x1=\"10\" y1=\"0\" x2=\"33\" y2=\"23\" style=\"stroke-width:2\" />\n",
       "  <line x1=\"35\" y1=\"0\" x2=\"59\" y2=\"23\" style=\"stroke-width:2\" />\n",
       "\n",
       "  <!-- Colored Rectangle -->\n",
       "  <polygon points=\"10.0,0.0 35.41261651458248,0.0 59.236013065879554,23.823396551297073 33.82339655129707,23.823396551297073\" style=\"fill:#8B4903A0;stroke-width:0\"/>\n",
       "\n",
       "  <!-- Horizontal lines -->\n",
       "  <line x1=\"33\" y1=\"23\" x2=\"59\" y2=\"23\" style=\"stroke-width:2\" />\n",
       "  <line x1=\"33\" y1=\"71\" x2=\"59\" y2=\"71\" />\n",
       "  <line x1=\"33\" y1=\"119\" x2=\"59\" y2=\"119\" />\n",
       "  <line x1=\"33\" y1=\"143\" x2=\"59\" y2=\"143\" style=\"stroke-width:2\" />\n",
       "\n",
       "  <!-- Vertical lines -->\n",
       "  <line x1=\"33\" y1=\"23\" x2=\"33\" y2=\"143\" style=\"stroke-width:2\" />\n",
       "  <line x1=\"59\" y1=\"23\" x2=\"59\" y2=\"143\" style=\"stroke-width:2\" />\n",
       "\n",
       "  <!-- Colored Rectangle -->\n",
       "  <polygon points=\"33.82339655129707,23.823396551297073 59.23601306587956,23.823396551297073 59.23601306587956,143.82339655129707 33.82339655129707,143.82339655129707\" style=\"fill:#ECB172A0;stroke-width:0\"/>\n",
       "\n",
       "  <!-- Text -->\n",
       "  <text x=\"46.529705\" y=\"163.823397\" font-size=\"1.0rem\" font-weight=\"100\" text-anchor=\"middle\" >1</text>\n",
       "  <text x=\"79.236013\" y=\"83.823397\" font-size=\"1.0rem\" font-weight=\"100\" text-anchor=\"middle\" transform=\"rotate(-90,79.236013,83.823397)\">2504</text>\n",
       "  <text x=\"11.911698\" y=\"151.911698\" font-size=\"1.0rem\" font-weight=\"100\" text-anchor=\"middle\" transform=\"rotate(45,11.911698,151.911698)\">360</text>\n",
       "</svg>\n",
       "        </td>\n",
       "    </tr>\n",
       "</table>"
      ],
      "text/plain": [
       "dask.array<arg_agg-aggregate, shape=(360, 2504, 1), dtype=int64, chunksize=(1, 1000, 1), chunktype=numpy.ndarray>"
      ]
     },
     "execution_count": 13,
     "metadata": {},
     "output_type": "execute_result"
    }
   ],
   "source": [
    "source_levels"
   ]
  },
  {
   "cell_type": "code",
   "execution_count": 14,
   "metadata": {},
   "outputs": [
    {
     "data": {
      "text/html": [
       "<table>\n",
       "    <tr>\n",
       "        <td>\n",
       "            <table style=\"border-collapse: collapse;\">\n",
       "                <thead>\n",
       "                    <tr>\n",
       "                        <td> </td>\n",
       "                        <th> Array </th>\n",
       "                        <th> Chunk </th>\n",
       "                    </tr>\n",
       "                </thead>\n",
       "                <tbody>\n",
       "                    \n",
       "                    <tr>\n",
       "                        <th> Bytes </th>\n",
       "                        <td> 137.55 MiB </td>\n",
       "                        <td> 156.25 kiB </td>\n",
       "                    </tr>\n",
       "                    \n",
       "                    <tr>\n",
       "                        <th> Shape </th>\n",
       "                        <td> (360, 2504, 40) </td>\n",
       "                        <td> (1, 1000, 40) </td>\n",
       "                    </tr>\n",
       "                    <tr>\n",
       "                        <th> Dask graph </th>\n",
       "                        <td colspan=\"2\"> 1080 chunks in 1 graph layer </td>\n",
       "                    </tr>\n",
       "                    <tr>\n",
       "                        <th> Data type </th>\n",
       "                        <td colspan=\"2\"> float32 numpy.ndarray </td>\n",
       "                    </tr>\n",
       "                </tbody>\n",
       "            </table>\n",
       "        </td>\n",
       "        <td>\n",
       "        <svg width=\"111\" height=\"193\" style=\"stroke:rgb(0,0,0);stroke-width:1\" >\n",
       "\n",
       "  <!-- Horizontal lines -->\n",
       "  <line x1=\"10\" y1=\"0\" x2=\"33\" y2=\"23\" style=\"stroke-width:2\" />\n",
       "  <line x1=\"10\" y1=\"47\" x2=\"33\" y2=\"71\" />\n",
       "  <line x1=\"10\" y1=\"95\" x2=\"33\" y2=\"119\" />\n",
       "  <line x1=\"10\" y1=\"120\" x2=\"33\" y2=\"143\" style=\"stroke-width:2\" />\n",
       "\n",
       "  <!-- Vertical lines -->\n",
       "  <line x1=\"10\" y1=\"0\" x2=\"10\" y2=\"120\" style=\"stroke-width:2\" />\n",
       "  <line x1=\"11\" y1=\"1\" x2=\"11\" y2=\"121\" />\n",
       "  <line x1=\"12\" y1=\"2\" x2=\"12\" y2=\"122\" />\n",
       "  <line x1=\"13\" y1=\"3\" x2=\"13\" y2=\"123\" />\n",
       "  <line x1=\"14\" y1=\"4\" x2=\"14\" y2=\"124\" />\n",
       "  <line x1=\"16\" y1=\"6\" x2=\"16\" y2=\"126\" />\n",
       "  <line x1=\"17\" y1=\"7\" x2=\"17\" y2=\"127\" />\n",
       "  <line x1=\"18\" y1=\"8\" x2=\"18\" y2=\"128\" />\n",
       "  <line x1=\"19\" y1=\"9\" x2=\"19\" y2=\"129\" />\n",
       "  <line x1=\"21\" y1=\"11\" x2=\"21\" y2=\"131\" />\n",
       "  <line x1=\"22\" y1=\"12\" x2=\"22\" y2=\"132\" />\n",
       "  <line x1=\"23\" y1=\"13\" x2=\"23\" y2=\"133\" />\n",
       "  <line x1=\"25\" y1=\"15\" x2=\"25\" y2=\"135\" />\n",
       "  <line x1=\"26\" y1=\"16\" x2=\"26\" y2=\"136\" />\n",
       "  <line x1=\"27\" y1=\"17\" x2=\"27\" y2=\"137\" />\n",
       "  <line x1=\"28\" y1=\"18\" x2=\"28\" y2=\"138\" />\n",
       "  <line x1=\"30\" y1=\"20\" x2=\"30\" y2=\"140\" />\n",
       "  <line x1=\"31\" y1=\"21\" x2=\"31\" y2=\"141\" />\n",
       "  <line x1=\"32\" y1=\"22\" x2=\"32\" y2=\"142\" />\n",
       "  <line x1=\"33\" y1=\"23\" x2=\"33\" y2=\"143\" style=\"stroke-width:2\" />\n",
       "\n",
       "  <!-- Colored Rectangle -->\n",
       "  <polygon points=\"10.0,0.0 33.82339655129707,23.823396551297073 33.82339655129707,143.82339655129707 10.0,120.0\" style=\"fill:#8B4903A0;stroke-width:0\"/>\n",
       "\n",
       "  <!-- Horizontal lines -->\n",
       "  <line x1=\"10\" y1=\"0\" x2=\"37\" y2=\"0\" style=\"stroke-width:2\" />\n",
       "  <line x1=\"11\" y1=\"1\" x2=\"38\" y2=\"1\" />\n",
       "  <line x1=\"12\" y1=\"2\" x2=\"40\" y2=\"2\" />\n",
       "  <line x1=\"13\" y1=\"3\" x2=\"41\" y2=\"3\" />\n",
       "  <line x1=\"14\" y1=\"4\" x2=\"42\" y2=\"4\" />\n",
       "  <line x1=\"16\" y1=\"6\" x2=\"44\" y2=\"6\" />\n",
       "  <line x1=\"17\" y1=\"7\" x2=\"45\" y2=\"7\" />\n",
       "  <line x1=\"18\" y1=\"8\" x2=\"46\" y2=\"8\" />\n",
       "  <line x1=\"19\" y1=\"9\" x2=\"47\" y2=\"9\" />\n",
       "  <line x1=\"21\" y1=\"11\" x2=\"49\" y2=\"11\" />\n",
       "  <line x1=\"22\" y1=\"12\" x2=\"50\" y2=\"12\" />\n",
       "  <line x1=\"23\" y1=\"13\" x2=\"51\" y2=\"13\" />\n",
       "  <line x1=\"25\" y1=\"15\" x2=\"52\" y2=\"15\" />\n",
       "  <line x1=\"26\" y1=\"16\" x2=\"54\" y2=\"16\" />\n",
       "  <line x1=\"27\" y1=\"17\" x2=\"55\" y2=\"17\" />\n",
       "  <line x1=\"28\" y1=\"18\" x2=\"56\" y2=\"18\" />\n",
       "  <line x1=\"30\" y1=\"20\" x2=\"57\" y2=\"20\" />\n",
       "  <line x1=\"31\" y1=\"21\" x2=\"59\" y2=\"21\" />\n",
       "  <line x1=\"32\" y1=\"22\" x2=\"60\" y2=\"22\" />\n",
       "  <line x1=\"33\" y1=\"23\" x2=\"61\" y2=\"23\" style=\"stroke-width:2\" />\n",
       "\n",
       "  <!-- Vertical lines -->\n",
       "  <line x1=\"10\" y1=\"0\" x2=\"33\" y2=\"23\" style=\"stroke-width:2\" />\n",
       "  <line x1=\"37\" y1=\"0\" x2=\"61\" y2=\"23\" style=\"stroke-width:2\" />\n",
       "\n",
       "  <!-- Colored Rectangle -->\n",
       "  <polygon points=\"10.0,0.0 37.79393870796601,0.0 61.61733525926308,23.823396551297073 33.82339655129707,23.823396551297073\" style=\"fill:#8B4903A0;stroke-width:0\"/>\n",
       "\n",
       "  <!-- Horizontal lines -->\n",
       "  <line x1=\"33\" y1=\"23\" x2=\"61\" y2=\"23\" style=\"stroke-width:2\" />\n",
       "  <line x1=\"33\" y1=\"71\" x2=\"61\" y2=\"71\" />\n",
       "  <line x1=\"33\" y1=\"119\" x2=\"61\" y2=\"119\" />\n",
       "  <line x1=\"33\" y1=\"143\" x2=\"61\" y2=\"143\" style=\"stroke-width:2\" />\n",
       "\n",
       "  <!-- Vertical lines -->\n",
       "  <line x1=\"33\" y1=\"23\" x2=\"33\" y2=\"143\" style=\"stroke-width:2\" />\n",
       "  <line x1=\"61\" y1=\"23\" x2=\"61\" y2=\"143\" style=\"stroke-width:2\" />\n",
       "\n",
       "  <!-- Colored Rectangle -->\n",
       "  <polygon points=\"33.82339655129707,23.823396551297073 61.617335259263086,23.823396551297073 61.617335259263086,143.82339655129707 33.82339655129707,143.82339655129707\" style=\"fill:#ECB172A0;stroke-width:0\"/>\n",
       "\n",
       "  <!-- Text -->\n",
       "  <text x=\"47.720366\" y=\"163.823397\" font-size=\"1.0rem\" font-weight=\"100\" text-anchor=\"middle\" >40</text>\n",
       "  <text x=\"81.617335\" y=\"83.823397\" font-size=\"1.0rem\" font-weight=\"100\" text-anchor=\"middle\" transform=\"rotate(-90,81.617335,83.823397)\">2504</text>\n",
       "  <text x=\"11.911698\" y=\"151.911698\" font-size=\"1.0rem\" font-weight=\"100\" text-anchor=\"middle\" transform=\"rotate(45,11.911698,151.911698)\">360</text>\n",
       "</svg>\n",
       "        </td>\n",
       "    </tr>\n",
       "</table>"
      ],
      "text/plain": [
       "dask.array<divide, shape=(360, 2504, 40), dtype=float32, chunksize=(1, 1000, 40), chunktype=numpy.ndarray>"
      ]
     },
     "execution_count": 14,
     "metadata": {},
     "output_type": "execute_result"
    }
   ],
   "source": [
    "rho"
   ]
  },
  {
   "cell_type": "code",
   "execution_count": 15,
   "metadata": {},
   "outputs": [],
   "source": [
    "def dask_take_along_axis(data, idx):\n",
    "    return np.take_along_axis(data[0], idx[0], axis=-1).squeeze(axis=-1)\n",
    "rho_0 = da.blockwise(\n",
    "            dask_take_along_axis,\n",
    "            \"ij\",\n",
    "            rho,\n",
    "            \"ijk\",\n",
    "            source_levels,\n",
    "            \"ijk\",\n",
    "            dtype=rho.dtype,\n",
    ")"
   ]
  },
  {
   "cell_type": "code",
   "execution_count": 16,
   "metadata": {},
   "outputs": [
    {
     "data": {
      "text/html": [
       "<table>\n",
       "    <tr>\n",
       "        <td>\n",
       "            <table style=\"border-collapse: collapse;\">\n",
       "                <thead>\n",
       "                    <tr>\n",
       "                        <td> </td>\n",
       "                        <th> Array </th>\n",
       "                        <th> Chunk </th>\n",
       "                    </tr>\n",
       "                </thead>\n",
       "                <tbody>\n",
       "                    \n",
       "                    <tr>\n",
       "                        <th> Bytes </th>\n",
       "                        <td> 137.55 MiB </td>\n",
       "                        <td> 156.25 kiB </td>\n",
       "                    </tr>\n",
       "                    \n",
       "                    <tr>\n",
       "                        <th> Shape </th>\n",
       "                        <td> (360, 2504, 40) </td>\n",
       "                        <td> (1, 1000, 40) </td>\n",
       "                    </tr>\n",
       "                    <tr>\n",
       "                        <th> Dask graph </th>\n",
       "                        <td colspan=\"2\"> 1080 chunks in 1 graph layer </td>\n",
       "                    </tr>\n",
       "                    <tr>\n",
       "                        <th> Data type </th>\n",
       "                        <td colspan=\"2\"> float32 numpy.ndarray </td>\n",
       "                    </tr>\n",
       "                </tbody>\n",
       "            </table>\n",
       "        </td>\n",
       "        <td>\n",
       "        <svg width=\"111\" height=\"193\" style=\"stroke:rgb(0,0,0);stroke-width:1\" >\n",
       "\n",
       "  <!-- Horizontal lines -->\n",
       "  <line x1=\"10\" y1=\"0\" x2=\"33\" y2=\"23\" style=\"stroke-width:2\" />\n",
       "  <line x1=\"10\" y1=\"47\" x2=\"33\" y2=\"71\" />\n",
       "  <line x1=\"10\" y1=\"95\" x2=\"33\" y2=\"119\" />\n",
       "  <line x1=\"10\" y1=\"120\" x2=\"33\" y2=\"143\" style=\"stroke-width:2\" />\n",
       "\n",
       "  <!-- Vertical lines -->\n",
       "  <line x1=\"10\" y1=\"0\" x2=\"10\" y2=\"120\" style=\"stroke-width:2\" />\n",
       "  <line x1=\"11\" y1=\"1\" x2=\"11\" y2=\"121\" />\n",
       "  <line x1=\"12\" y1=\"2\" x2=\"12\" y2=\"122\" />\n",
       "  <line x1=\"13\" y1=\"3\" x2=\"13\" y2=\"123\" />\n",
       "  <line x1=\"14\" y1=\"4\" x2=\"14\" y2=\"124\" />\n",
       "  <line x1=\"16\" y1=\"6\" x2=\"16\" y2=\"126\" />\n",
       "  <line x1=\"17\" y1=\"7\" x2=\"17\" y2=\"127\" />\n",
       "  <line x1=\"18\" y1=\"8\" x2=\"18\" y2=\"128\" />\n",
       "  <line x1=\"19\" y1=\"9\" x2=\"19\" y2=\"129\" />\n",
       "  <line x1=\"21\" y1=\"11\" x2=\"21\" y2=\"131\" />\n",
       "  <line x1=\"22\" y1=\"12\" x2=\"22\" y2=\"132\" />\n",
       "  <line x1=\"23\" y1=\"13\" x2=\"23\" y2=\"133\" />\n",
       "  <line x1=\"25\" y1=\"15\" x2=\"25\" y2=\"135\" />\n",
       "  <line x1=\"26\" y1=\"16\" x2=\"26\" y2=\"136\" />\n",
       "  <line x1=\"27\" y1=\"17\" x2=\"27\" y2=\"137\" />\n",
       "  <line x1=\"28\" y1=\"18\" x2=\"28\" y2=\"138\" />\n",
       "  <line x1=\"30\" y1=\"20\" x2=\"30\" y2=\"140\" />\n",
       "  <line x1=\"31\" y1=\"21\" x2=\"31\" y2=\"141\" />\n",
       "  <line x1=\"32\" y1=\"22\" x2=\"32\" y2=\"142\" />\n",
       "  <line x1=\"33\" y1=\"23\" x2=\"33\" y2=\"143\" style=\"stroke-width:2\" />\n",
       "\n",
       "  <!-- Colored Rectangle -->\n",
       "  <polygon points=\"10.0,0.0 33.82339655129707,23.823396551297073 33.82339655129707,143.82339655129707 10.0,120.0\" style=\"fill:#8B4903A0;stroke-width:0\"/>\n",
       "\n",
       "  <!-- Horizontal lines -->\n",
       "  <line x1=\"10\" y1=\"0\" x2=\"37\" y2=\"0\" style=\"stroke-width:2\" />\n",
       "  <line x1=\"11\" y1=\"1\" x2=\"38\" y2=\"1\" />\n",
       "  <line x1=\"12\" y1=\"2\" x2=\"40\" y2=\"2\" />\n",
       "  <line x1=\"13\" y1=\"3\" x2=\"41\" y2=\"3\" />\n",
       "  <line x1=\"14\" y1=\"4\" x2=\"42\" y2=\"4\" />\n",
       "  <line x1=\"16\" y1=\"6\" x2=\"44\" y2=\"6\" />\n",
       "  <line x1=\"17\" y1=\"7\" x2=\"45\" y2=\"7\" />\n",
       "  <line x1=\"18\" y1=\"8\" x2=\"46\" y2=\"8\" />\n",
       "  <line x1=\"19\" y1=\"9\" x2=\"47\" y2=\"9\" />\n",
       "  <line x1=\"21\" y1=\"11\" x2=\"49\" y2=\"11\" />\n",
       "  <line x1=\"22\" y1=\"12\" x2=\"50\" y2=\"12\" />\n",
       "  <line x1=\"23\" y1=\"13\" x2=\"51\" y2=\"13\" />\n",
       "  <line x1=\"25\" y1=\"15\" x2=\"52\" y2=\"15\" />\n",
       "  <line x1=\"26\" y1=\"16\" x2=\"54\" y2=\"16\" />\n",
       "  <line x1=\"27\" y1=\"17\" x2=\"55\" y2=\"17\" />\n",
       "  <line x1=\"28\" y1=\"18\" x2=\"56\" y2=\"18\" />\n",
       "  <line x1=\"30\" y1=\"20\" x2=\"57\" y2=\"20\" />\n",
       "  <line x1=\"31\" y1=\"21\" x2=\"59\" y2=\"21\" />\n",
       "  <line x1=\"32\" y1=\"22\" x2=\"60\" y2=\"22\" />\n",
       "  <line x1=\"33\" y1=\"23\" x2=\"61\" y2=\"23\" style=\"stroke-width:2\" />\n",
       "\n",
       "  <!-- Vertical lines -->\n",
       "  <line x1=\"10\" y1=\"0\" x2=\"33\" y2=\"23\" style=\"stroke-width:2\" />\n",
       "  <line x1=\"37\" y1=\"0\" x2=\"61\" y2=\"23\" style=\"stroke-width:2\" />\n",
       "\n",
       "  <!-- Colored Rectangle -->\n",
       "  <polygon points=\"10.0,0.0 37.79393870796601,0.0 61.61733525926308,23.823396551297073 33.82339655129707,23.823396551297073\" style=\"fill:#8B4903A0;stroke-width:0\"/>\n",
       "\n",
       "  <!-- Horizontal lines -->\n",
       "  <line x1=\"33\" y1=\"23\" x2=\"61\" y2=\"23\" style=\"stroke-width:2\" />\n",
       "  <line x1=\"33\" y1=\"71\" x2=\"61\" y2=\"71\" />\n",
       "  <line x1=\"33\" y1=\"119\" x2=\"61\" y2=\"119\" />\n",
       "  <line x1=\"33\" y1=\"143\" x2=\"61\" y2=\"143\" style=\"stroke-width:2\" />\n",
       "\n",
       "  <!-- Vertical lines -->\n",
       "  <line x1=\"33\" y1=\"23\" x2=\"33\" y2=\"143\" style=\"stroke-width:2\" />\n",
       "  <line x1=\"61\" y1=\"23\" x2=\"61\" y2=\"143\" style=\"stroke-width:2\" />\n",
       "\n",
       "  <!-- Colored Rectangle -->\n",
       "  <polygon points=\"33.82339655129707,23.823396551297073 61.617335259263086,23.823396551297073 61.617335259263086,143.82339655129707 33.82339655129707,143.82339655129707\" style=\"fill:#ECB172A0;stroke-width:0\"/>\n",
       "\n",
       "  <!-- Text -->\n",
       "  <text x=\"47.720366\" y=\"163.823397\" font-size=\"1.0rem\" font-weight=\"100\" text-anchor=\"middle\" >40</text>\n",
       "  <text x=\"81.617335\" y=\"83.823397\" font-size=\"1.0rem\" font-weight=\"100\" text-anchor=\"middle\" transform=\"rotate(-90,81.617335,83.823397)\">2504</text>\n",
       "  <text x=\"11.911698\" y=\"151.911698\" font-size=\"1.0rem\" font-weight=\"100\" text-anchor=\"middle\" transform=\"rotate(45,11.911698,151.911698)\">360</text>\n",
       "</svg>\n",
       "        </td>\n",
       "    </tr>\n",
       "</table>"
      ],
      "text/plain": [
       "dask.array<divide, shape=(360, 2504, 40), dtype=float32, chunksize=(1, 1000, 40), chunktype=numpy.ndarray>"
      ]
     },
     "execution_count": 16,
     "metadata": {},
     "output_type": "execute_result"
    }
   ],
   "source": [
    "rho"
   ]
  },
  {
   "cell_type": "code",
   "execution_count": 8,
   "metadata": {},
   "outputs": [],
   "source": [
    "fnet = fntv + fptv"
   ]
  },
  {
   "cell_type": "code",
   "execution_count": 9,
   "metadata": {},
   "outputs": [],
   "source": [
    "fnet = fnet.persist()"
   ]
  },
  {
   "cell_type": "code",
   "execution_count": 10,
   "metadata": {},
   "outputs": [
    {
     "data": {
      "text/plain": [
       "<matplotlib.legend.Legend at 0x321e75400>"
      ]
     },
     "execution_count": 10,
     "metadata": {},
     "output_type": "execute_result"
    },
    {
     "data": {
      "image/png": "[encoded data removed]",
      "text/plain": [
       "<Figure size 640x480 with 1 Axes>"
      ]
     },
     "metadata": {},
     "output_type": "display_data"
    }
   ],
   "source": [
    "ax = plt.axes()\n",
    "point = (10,36)\n",
    "\n",
    "_,ptv_ad99 = ad99.momentum_flux_neg_ptv(u[*(point)],Ns[*(point)],z[*(point)],rho[*(point)],lat=lat[*(point)])\n",
    "# ocean_expac.gwfu_cgwd[*(point)].plot(ax=ax,y='pfull',yincrease=False,yscale='log',label='mima')\n",
    "ax.plot(1000*ptv_ad99,ocean_expac.pfull.data,label='ad99(numpy) ')\n",
    "ax.plot(1000*fptv[*(point)],ocean_expac.pfull.data,linestyle='--',color='k',label='ad99(dask)')\n",
    "plt.gca().invert_yaxis()\n",
    "plt.yscale('log')\n",
    "plt.legend()"
   ]
  },
  {
   "cell_type": "code",
   "execution_count": 17,
   "metadata": {},
   "outputs": [],
   "source": [
    "level = 100#hPa\n",
    "i_level = np.argmin(np.abs(ocean_expac.pfull.values - level))"
   ]
  },
  {
   "cell_type": "code",
   "execution_count": 18,
   "metadata": {},
   "outputs": [],
   "source": [
    "\n",
    "flux_ptv_level = fptv[...,i_level].ravel().compute()\n",
    "flux_ptv_level = flux_ptv_level[flux_ptv_level > 0]\n",
    "\n",
    "flux_ptv_level_nvr = fptv_nvr[...,i_level].ravel().compute()\n",
    "flux_ptv_level_nvr = flux_ptv_level_nvr[flux_ptv_level_nvr > 0]\n",
    "\n",
    "flux_ptv_level_alw = fptv_alw[...,i_level].ravel().compute()\n",
    "flux_ptv_level_alw = flux_ptv_level_alw[flux_ptv_level_alw > 0]\n",
    "\n"
   ]
  },
  {
   "cell_type": "code",
   "execution_count": 19,
   "metadata": {},
   "outputs": [
    {
     "data": {
      "text/plain": [
       "array([0.00081966, 0.00077465, 0.0008012 , ..., 0.00060549, 0.00048769,\n",
       "       0.00039627], shape=(859142,))"
      ]
     },
     "execution_count": 19,
     "metadata": {},
     "output_type": "execute_result"
    }
   ],
   "source": [
    "flux_ptv_level"
   ]
  },
  {
   "cell_type": "code",
   "execution_count": 21,
   "metadata": {},
   "outputs": [
    {
     "data": {
      "text/plain": [
       "<matplotlib.legend.Legend at 0x3503eca50>"
      ]
     },
     "execution_count": 21,
     "metadata": {},
     "output_type": "execute_result"
    },
    {
     "data": {
      "image/png": "[encoded data removed]",
      "text/plain": [
       "<Figure size 700x500 with 1 Axes>"
      ]
     },
     "metadata": {},
     "output_type": "display_data"
    }
   ],
   "source": [
    "bins = np.linspace(-3,3,100)\n",
    "plt.figure(figsize=(7,5))\n",
    "bc = 0.5*(bins[1:] + bins[:-1])\n",
    "mima_spec,_ = np.histogram(np.log10(flux_ptv_level*1000),bins=bins,density=True)\n",
    "nevr_spec,_ = np.histogram(np.log10(flux_ptv_level_nvr*1000),bins=bins,density=True)\n",
    "always_spec,_ = np.histogram(np.log10(flux_ptv_level_alw*1000),bins=bins,density=True)\n",
    "plt.plot(bc,mima_spec,label='Hybrid centering (10 degree)')\n",
    "plt.plot(bc,nevr_spec,label='Center source on c=0')\n",
    "plt.plot(bc,always_spec,label='Center source on c=u')\n",
    "plt.xlabel('log10(GW flux) (mPa)')\n",
    "plt.title(f'+ve momentum flux at {ocean_expac.pfull.values[i_level]:.2f} hPa')\n",
    "plt.legend()"
   ]
  },
  {
   "cell_type": "code",
   "execution_count": 22,
   "metadata": {},
   "outputs": [],
   "source": [
    "fnet_level = fnet[...,i_level].ravel().compute()\n",
    "fnet_level = fnet_level[fnet_level > 0]"
   ]
  },
  {
   "cell_type": "code",
   "execution_count": 23,
   "metadata": {},
   "outputs": [
    {
     "data": {
      "text/plain": [
       "(array([2.62585937e-03, 4.20137500e-03, 4.12635044e-03, 4.27639955e-03,\n",
       "        4.72654687e-03, 5.92693973e-03, 7.87757812e-03, 8.47777454e-03,\n",
       "        8.10265178e-03, 9.07797097e-03, 1.12536830e-02, 1.30542723e-02,\n",
       "        1.32793460e-02, 1.94313594e-02, 2.10818995e-02, 2.49081518e-02,\n",
       "        2.78341093e-02, 3.04599687e-02, 3.77373504e-02, 3.70621294e-02,\n",
       "        4.62901495e-02, 5.28923102e-02, 6.57215089e-02, 7.15734240e-02,\n",
       "        8.35023280e-02, 9.01795133e-02, 1.08410480e-01, 1.23265341e-01,\n",
       "        1.41571332e-01, 1.60252446e-01, 1.80359027e-01, 2.12394511e-01,\n",
       "        2.40303645e-01, 2.71438835e-01, 3.21330163e-01, 3.64019134e-01,\n",
       "        4.06257957e-01, 4.63051544e-01, 5.18944836e-01, 5.71837147e-01,\n",
       "        6.59615874e-01, 7.33139937e-01, 8.10940399e-01, 8.67583937e-01,\n",
       "        9.50636117e-01, 1.01928358e+00, 1.04831809e+00, 1.07960332e+00,\n",
       "        1.05859645e+00, 1.00120267e+00, 9.08547343e-01, 8.23169401e-01,\n",
       "        5.07090957e-01, 1.56876341e-01, 6.75971227e-02, 1.83059911e-02,\n",
       "        3.75122767e-04, 0.00000000e+00, 0.00000000e+00, 0.00000000e+00,\n",
       "        0.00000000e+00, 0.00000000e+00, 0.00000000e+00, 0.00000000e+00,\n",
       "        0.00000000e+00, 0.00000000e+00, 0.00000000e+00, 0.00000000e+00,\n",
       "        0.00000000e+00, 0.00000000e+00, 0.00000000e+00, 0.00000000e+00,\n",
       "        0.00000000e+00, 0.00000000e+00, 0.00000000e+00, 0.00000000e+00,\n",
       "        0.00000000e+00, 0.00000000e+00, 0.00000000e+00, 0.00000000e+00,\n",
       "        0.00000000e+00, 0.00000000e+00, 0.00000000e+00, 0.00000000e+00,\n",
       "        0.00000000e+00, 0.00000000e+00, 0.00000000e+00, 0.00000000e+00,\n",
       "        0.00000000e+00, 0.00000000e+00, 0.00000000e+00, 0.00000000e+00,\n",
       "        0.00000000e+00, 0.00000000e+00, 0.00000000e+00, 0.00000000e+00,\n",
       "        0.00000000e+00, 0.00000000e+00, 0.00000000e+00]),\n",
       " array([-3.        , -2.93939394, -2.87878788, -2.81818182, -2.75757576,\n",
       "        -2.6969697 , -2.63636364, -2.57575758, -2.51515152, -2.45454545,\n",
       "        -2.39393939, -2.33333333, -2.27272727, -2.21212121, -2.15151515,\n",
       "        -2.09090909, -2.03030303, -1.96969697, -1.90909091, -1.84848485,\n",
       "        -1.78787879, -1.72727273, -1.66666667, -1.60606061, -1.54545455,\n",
       "        -1.48484848, -1.42424242, -1.36363636, -1.3030303 , -1.24242424,\n",
       "        -1.18181818, -1.12121212, -1.06060606, -1.        , -0.93939394,\n",
       "        -0.87878788, -0.81818182, -0.75757576, -0.6969697 , -0.63636364,\n",
       "        -0.57575758, -0.51515152, -0.45454545, -0.39393939, -0.33333333,\n",
       "        -0.27272727, -0.21212121, -0.15151515, -0.09090909, -0.03030303,\n",
       "         0.03030303,  0.09090909,  0.15151515,  0.21212121,  0.27272727,\n",
       "         0.33333333,  0.39393939,  0.45454545,  0.51515152,  0.57575758,\n",
       "         0.63636364,  0.6969697 ,  0.75757576,  0.81818182,  0.87878788,\n",
       "         0.93939394,  1.        ,  1.06060606,  1.12121212,  1.18181818,\n",
       "         1.24242424,  1.3030303 ,  1.36363636,  1.42424242,  1.48484848,\n",
       "         1.54545455,  1.60606061,  1.66666667,  1.72727273,  1.78787879,\n",
       "         1.84848485,  1.90909091,  1.96969697,  2.03030303,  2.09090909,\n",
       "         2.15151515,  2.21212121,  2.27272727,  2.33333333,  2.39393939,\n",
       "         2.45454545,  2.51515152,  2.57575758,  2.63636364,  2.6969697 ,\n",
       "         2.75757576,  2.81818182,  2.87878788,  2.93939394,  3.        ]),\n",
       " <BarContainer object of 99 artists>)"
      ]
     },
     "execution_count": 23,
     "metadata": {},
     "output_type": "execute_result"
    },
    {
     "data": {
      "image/png": "[encoded data removed]",
      "text/plain": [
       "<Figure size 640x480 with 1 Axes>"
      ]
     },
     "metadata": {},
     "output_type": "display_data"
    }
   ],
   "source": [
    "plt.hist(np.log10(fnet_level*1000),bins=bins,density=True)"
   ]
  },
  {
   "cell_type": "code",
   "execution_count": null,
   "metadata": {},
   "outputs": [],
   "source": []
  },
  {
   "cell_type": "code",
   "execution_count": null,
   "metadata": {},
   "outputs": [],
   "source": []
  }
 ],
 "metadata": {
  "kernelspec": {
   "display_name": "loon_gw",
   "language": "python",
   "name": "python3"
  },
  "language_info": {
   "codemirror_mode": {
    "name": "ipython",
    "version": 3
   },
   "file_extension": ".py",
   "mimetype": "text/x-python",
   "name": "python",
   "nbconvert_exporter": "python",
   "pygments_lexer": "ipython3",
   "version": "3.13.2"
  }
 },
 "nbformat": 4,
 "nbformat_minor": 2
}
