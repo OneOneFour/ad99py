{
 "cells": [
  {
   "cell_type": "code",
   "execution_count": 1,
   "metadata": {},
   "outputs": [],
   "source": [
    "import numpy as np\n",
    "import xarray as xr\n",
    "import dask.array as da \n",
    "import matplotlib.pyplot as plt\n",
    "from scipy.integrate import cumulative_trapezoid\n",
    "from ad99 import AlexanderDunkerton1999\n",
    "from constants import GRAV,R_DRY,C_P"
   ]
  },
  {
   "cell_type": "code",
   "execution_count": 2,
   "metadata": {},
   "outputs": [
    {
     "name": "stderr",
     "output_type": "stream",
     "text": [
      "/Users/robcking/miniconda3/envs/loon_gw/lib/python3.12/site-packages/dask/_task_spec.py:745: RuntimeWarning: divide by zero encountered in divide\n",
      "  return self.func(*new_argspec)\n",
      "/Users/robcking/miniconda3/envs/loon_gw/lib/python3.12/site-packages/dask/_task_spec.py:745: RuntimeWarning: divide by zero encountered in divide\n",
      "  return self.func(*new_argspec)\n",
      "/Users/robcking/miniconda3/envs/loon_gw/lib/python3.12/site-packages/dask/_task_spec.py:745: RuntimeWarning: invalid value encountered in divide\n",
      "  return self.func(*new_argspec)\n"
     ]
    }
   ],
   "source": [
    "ds = xr.open_dataset('data/atmos_daily.nc',chunks={'time':1})\n",
    "ds_mask_trop = xr.open_dataset('data/loon_masks.nc')\n",
    "ds_mask_trop['lon'] = (ds_mask_trop.lon + 360) % 360 \n",
    "ds_mask_trop = ds_mask_trop.sortby('lon')\n",
    "interp_mask = ds_mask_trop.interp(lat=ds.lat,lon=ds.lon,method='nearest').astype(bool)\n",
    "\n",
    "ocean_expac = ds.where(interp_mask.extratropical_pacific).stack(points = ['lat','lon'])\n",
    "ocean_expac = ocean_expac.dropna('points',how='all')\n",
    "ocean_expac = ocean_expac.isel(pfull=slice(None,None,-1))\n",
    "\n",
    "ocean_expac = ocean_expac[['ucomp','temp','vcomp','height','gwfu_cgwd','gwfv_cgwd']]\n",
    "ocean_expac = ocean_expac.transpose('time','points','pfull')\n",
    "\n",
    "dTdz = da.gradient(ocean_expac.temp,axis=-1)/da.gradient(ocean_expac.height,axis=-1)\n",
    "Ns2 = GRAV/ocean_expac.temp*(dTdz + GRAV/C_P) \n",
    "bflim = 1e-4 \n",
    "Ns2 = xr.where(Ns2 < bflim**2,bflim**2,Ns2)\n",
    "Ns = da.sqrt(Ns2)\n",
    "rho = (100*ocean_expac.pfull.data[None,None,:])/(R_DRY*ocean_expac.temp)"
   ]
  },
  {
   "cell_type": "code",
   "execution_count": 3,
   "metadata": {},
   "outputs": [],
   "source": [
    "rho = rho.data\n",
    "u = ocean_expac.ucomp.data\n",
    "z = ocean_expac.height.data\n",
    "Ns = Ns.data"
   ]
  },
  {
   "cell_type": "markdown",
   "metadata": {},
   "source": [
    "### vectorized dask attempt"
   ]
  },
  {
   "cell_type": "code",
   "execution_count": 22,
   "metadata": {},
   "outputs": [],
   "source": [
    "source_level_height = 9000\n",
    "dc = 1.2\n",
    "idx_z_source = da.argmin(da.abs(z - source_level_height),axis=-1,keepdims=True)\n",
    "\n",
    "def take_along_axis(data,idx):\n",
    "    return np.take_along_axis(data[0],idx[0],axis=-1).squeeze(axis=-1)\n",
    "\n",
    "rho_0 = da.blockwise(take_along_axis,\"ij\",rho,\"ijk\",idx_z_source,\"ijk\",dtype=rho.dtype)\n",
    "u_0 = da.blockwise(take_along_axis,\"ij\",u,\"ijk\",idx_z_source,\"ijk\",dtype=u.dtype)\n",
    "c0 = np.arange(-99.6,99.6+dc,dc,dtype=np.float32)"
   ]
  },
  {
   "cell_type": "code",
   "execution_count": 23,
   "metadata": {},
   "outputs": [],
   "source": [
    "Bm = 0.4\n",
    "cw = 35\n",
    "\n",
    "def source_spectrum( c, u=None):\n",
    "    c = c - u\n",
    "    return np.sign(c) * Bm *np.exp(-np.log(2) * (c /cw) ** 2)\n",
    "\n",
    "spectrum = source_spectrum(c0,u_0[...,None])"
   ]
  },
  {
   "cell_type": "code",
   "execution_count": 24,
   "metadata": {},
   "outputs": [],
   "source": [
    "dz = z[...,1:] - z[...,:-1]  # No need for da.zeros_like\n",
    "H = -dz / np.log(rho[...,1:] / rho[...,:-1])\n",
    "\n",
    "# Optionally pad the first element (since slicing shortens the array)\n",
    "dz = da.concatenate([dz[...,0,None], dz], axis=-1)\n",
    "H  = da.concatenate([H[...,0,None], H], axis=-1)\n",
    "H = H.rechunk(z.chunks)\n",
    "dz = dz.rechunk(z.chunks)"
   ]
  },
  {
   "cell_type": "code",
   "execution_count": 25,
   "metadata": {},
   "outputs": [],
   "source": [
    "kwv = (2*np.pi)/(300e3)\n",
    "def reflection_frequency(N,H):\n",
    "    alpha = 1/(2*H)\n",
    "    return np.sqrt( N**2 * kwv**2/ (kwv**2 + alpha*alpha))\n",
    "\n",
    "f = reflection_frequency(Ns,H)\n"
   ]
  },
  {
   "cell_type": "code",
   "execution_count": 26,
   "metadata": {},
   "outputs": [],
   "source": [
    "intrinsic_freq = kwv*(c0[:,None] - u[...,None,:])"
   ]
  },
  {
   "cell_type": "code",
   "execution_count": 27,
   "metadata": {},
   "outputs": [
    {
     "data": {
      "text/plain": [
       "array([[0.00192318, 0.00190597, 0.00197546, ..., 0.00261583, 0.00244588,\n",
       "        0.00226399],\n",
       "       [0.00189805, 0.00188084, 0.00195032, ..., 0.0025907 , 0.00242075,\n",
       "        0.00223886],\n",
       "       [0.00187292, 0.0018557 , 0.00192519, ..., 0.00256557, 0.00239561,\n",
       "        0.00221373],\n",
       "       ...,\n",
       "       [0.00219858, 0.00221579, 0.0021463 , ..., 0.00150593, 0.00167588,\n",
       "        0.00185776],\n",
       "       [0.00222371, 0.00224092, 0.00217144, ..., 0.00153106, 0.00170101,\n",
       "        0.0018829 ],\n",
       "       [0.00224884, 0.00226605, 0.00219657, ..., 0.00155619, 0.00172614,\n",
       "        0.00190803]], dtype=float32)"
      ]
     },
     "execution_count": 27,
     "metadata": {},
     "output_type": "execute_result"
    }
   ],
   "source": [
    "np.abs(intrinsic_freq)[0,0].compute()"
   ]
  },
  {
   "cell_type": "code",
   "execution_count": 28,
   "metadata": {},
   "outputs": [],
   "source": [
    "\n",
    "Fs0 = 3e-3\n",
    "def intermittency(rho_source, u=None):\n",
    "    return (Fs0 * dc) / (\n",
    "        rho_source * da.sum(da.abs(source_spectrum(c0, u[...,None]))*dc, axis=-1)\n",
    "    )\n",
    "\n",
    "eps = intermittency(rho_0,u_0)\n",
    "\n"
   ]
  },
  {
   "cell_type": "code",
   "execution_count": 29,
   "metadata": {},
   "outputs": [
    {
     "data": {
      "text/plain": [
       "array([[-0.00192318, -0.00190597, -0.00197546, ..., -0.00261583,\n",
       "        -0.00244588, -0.00226399],\n",
       "       [-0.00189805, -0.00188084, -0.00195032, ..., -0.0025907 ,\n",
       "        -0.00242075, -0.00223886],\n",
       "       [-0.00187292, -0.0018557 , -0.00192519, ..., -0.00256557,\n",
       "        -0.00239561, -0.00221373],\n",
       "       ...,\n",
       "       [ 0.00219858,  0.00221579,  0.0021463 , ...,  0.00150593,\n",
       "         0.00167588,  0.00185776],\n",
       "       [ 0.00222371,  0.00224092,  0.00217144, ...,  0.00153106,\n",
       "         0.00170101,  0.0018829 ],\n",
       "       [ 0.00224884,  0.00226605,  0.00219657, ...,  0.00155619,\n",
       "         0.00172614,  0.00190803]], dtype=float32)"
      ]
     },
     "execution_count": 29,
     "metadata": {},
     "output_type": "execute_result"
    }
   ],
   "source": [
    "intrinsic_freq[0,0].compute()"
   ]
  },
  {
   "cell_type": "code",
   "execution_count": 30,
   "metadata": {},
   "outputs": [],
   "source": [
    "level_idx = da.broadcast_to(da.arange(z.shape[-1]),z.shape,chunks=z.chunks) \n",
    "tir =(da.abs(intrinsic_freq) >= f[...,None,:])*((level_idx >= idx_z_source)[...,None,:])\n",
    "tir_idx = da.where(tir.any(axis=-1,keepdims=True) , da.argmax(tir,axis=-1,keepdims=True), tir.shape[-1])\n"
   ]
  },
  {
   "cell_type": "code",
   "execution_count": 31,
   "metadata": {},
   "outputs": [],
   "source": [
    "Q0 = 2*Ns[...,None,:]*spectrum[...,:,None]*rho_0[...,None,None]/(rho[...,None,:]*kwv*(c0[...,:,None] - u[...,None,:])**3)\n",
    "valid_starting = ((idx_z_source == level_idx)[...,None,:]*(Q0 < 1)).any(axis=-1,keepdims=True)\n",
    "Q0breaking = (Q0 >= 1)*(level_idx > idx_z_source)[...,None,:]*valid_starting"
   ]
  },
  {
   "cell_type": "code",
   "execution_count": 32,
   "metadata": {},
   "outputs": [],
   "source": [
    "breaking_idx = da.where(Q0breaking.any(axis=-1,keepdims=True), da.argmax(Q0breaking,axis=-1,keepdims=True), Q0.shape[-1] -1 )\n",
    "breaking_idx = da.where(breaking_idx < tir_idx, breaking_idx, -1)\n",
    "breaking = (breaking_idx == level_idx[...,None,:])"
   ]
  },
  {
   "cell_type": "code",
   "execution_count": 33,
   "metadata": {},
   "outputs": [],
   "source": [
    "F0 = da.sum(breaking*rho_0[...,None,None] * spectrum[...,None],axis=-2)\n",
    "rho_half = da.concatenate([rho_0[...,None],np.sqrt(rho[...,1:]*rho[...,:-1])],axis=-1)\n",
    "half_lvl_drag = F0 * eps[...,None]/ (rho_half * dz)\n",
    "full_lvl_drag = da.concatenate([0.5*(half_lvl_drag[...,1:] + half_lvl_drag[...,:-1]),half_lvl_drag[...,-1][...,None]],axis=-1)\n",
    "full_lvl_drag = full_lvl_drag.rechunk(z.chunks)\n"
   ]
  },
  {
   "cell_type": "code",
   "execution_count": 34,
   "metadata": {},
   "outputs": [],
   "source": [
    "fd = full_lvl_drag.compute()"
   ]
  },
  {
   "cell_type": "markdown",
   "metadata": {},
   "source": [
    "## dask aware! ad99"
   ]
  },
  {
   "cell_type": "code",
   "execution_count": 35,
   "metadata": {},
   "outputs": [
    {
     "data": {
      "text/plain": [
       "[<matplotlib.lines.Line2D at 0x349059eb0>]"
      ]
     },
     "execution_count": 35,
     "metadata": {},
     "output_type": "execute_result"
    },
    {
     "data": {
      "image/png": "[encoded data removed]",
      "text/plain": [
       "<Figure size 640x480 with 1 Axes>"
      ]
     },
     "metadata": {},
     "output_type": "display_data"
    }
   ],
   "source": [
    "ax = plt.axes()\n",
    "point = (0,43)\n",
    "ocean_expac.gwfu_cgwd[*(point)].plot(ax=ax,y='pfull',yincrease=False,yscale='log')\n",
    "ax.plot(fd[*(point)],ocean_expac.pfull.data)\n"
   ]
  },
  {
   "cell_type": "code",
   "execution_count": 275,
   "metadata": {},
   "outputs": [],
   "source": [
    "drag = ocean_expac.sel(pfull=0.2,method='nearest').gwfu_cgwd.compute().data"
   ]
  },
  {
   "cell_type": "code",
   "execution_count": 276,
   "metadata": {},
   "outputs": [],
   "source": [
    "ptvdrag = drag[drag > 0]"
   ]
  },
  {
   "cell_type": "code",
   "execution_count": 277,
   "metadata": {},
   "outputs": [
    {
     "data": {
      "text/plain": [
       "(array([4.335e+03, 4.535e+03, 4.571e+03, 4.388e+03, 4.201e+03, 4.135e+03,\n",
       "        4.102e+03, 3.884e+03, 3.902e+03, 3.922e+03, 3.807e+03, 3.764e+03,\n",
       "        3.862e+03, 3.830e+03, 3.749e+03, 3.779e+03, 3.614e+03, 3.673e+03,\n",
       "        3.639e+03, 3.690e+03, 3.657e+03, 3.493e+03, 3.544e+03, 3.445e+03,\n",
       "        3.389e+03, 3.265e+03, 3.218e+03, 3.064e+03, 3.016e+03, 2.813e+03,\n",
       "        2.733e+03, 2.624e+03, 2.534e+03, 2.418e+03, 2.305e+03, 2.172e+03,\n",
       "        2.030e+03, 1.831e+03, 1.812e+03, 1.732e+03, 1.577e+03, 1.521e+03,\n",
       "        1.348e+03, 1.231e+03, 1.158e+03, 1.059e+03, 9.590e+02, 8.680e+02,\n",
       "        8.160e+02, 7.610e+02, 7.340e+02, 7.010e+02, 6.550e+02, 6.010e+02,\n",
       "        4.900e+02, 4.980e+02, 4.550e+02, 4.660e+02, 4.060e+02, 3.570e+02,\n",
       "        3.090e+02, 3.020e+02, 2.430e+02, 2.150e+02, 1.770e+02, 1.700e+02,\n",
       "        1.530e+02, 1.490e+02, 1.430e+02, 1.160e+02, 9.600e+01, 9.100e+01,\n",
       "        7.400e+01, 6.500e+01, 5.800e+01, 6.000e+01, 4.600e+01, 3.600e+01,\n",
       "        3.200e+01, 3.700e+01, 1.800e+01, 2.500e+01, 1.800e+01, 2.300e+01,\n",
       "        1.300e+01, 2.000e+01, 1.000e+01, 1.100e+01, 6.000e+00, 6.000e+00,\n",
       "        5.000e+00, 0.000e+00, 1.000e+00, 2.000e+00, 3.000e+00, 2.000e+00,\n",
       "        0.000e+00, 3.000e+00, 0.000e+00, 2.000e+00]),\n",
       " array([2.51386867e-09, 4.21385357e-06, 8.42519330e-06, 1.26365330e-05,\n",
       "        1.68478728e-05, 2.10592116e-05, 2.52705522e-05, 2.94818910e-05,\n",
       "        3.36932317e-05, 3.79045705e-05, 4.21159093e-05, 4.63272481e-05,\n",
       "        5.05385906e-05, 5.47499294e-05, 5.89612682e-05, 6.31726070e-05,\n",
       "        6.73839459e-05, 7.15952847e-05, 7.58066235e-05, 8.00179623e-05,\n",
       "        8.42293084e-05, 8.84406472e-05, 9.26519861e-05, 9.68633249e-05,\n",
       "        1.01074664e-04, 1.05286003e-04, 1.09497341e-04, 1.13708680e-04,\n",
       "        1.17920019e-04, 1.22131358e-04, 1.26342697e-04, 1.30554035e-04,\n",
       "        1.34765374e-04, 1.38976713e-04, 1.43188066e-04, 1.47399405e-04,\n",
       "        1.51610744e-04, 1.55822083e-04, 1.60033422e-04, 1.64244761e-04,\n",
       "        1.68456099e-04, 1.72667438e-04, 1.76878777e-04, 1.81090116e-04,\n",
       "        1.85301455e-04, 1.89512793e-04, 1.93724132e-04, 1.97935471e-04,\n",
       "        2.02146810e-04, 2.06358149e-04, 2.10569488e-04, 2.14780826e-04,\n",
       "        2.18992165e-04, 2.23203519e-04, 2.27414857e-04, 2.31626196e-04,\n",
       "        2.35837535e-04, 2.40048874e-04, 2.44260213e-04, 2.48471537e-04,\n",
       "        2.52682890e-04, 2.56894215e-04, 2.61105568e-04, 2.65316921e-04,\n",
       "        2.69528246e-04, 2.73739599e-04, 2.77950923e-04, 2.82162277e-04,\n",
       "        2.86373601e-04, 2.90584954e-04, 2.94796278e-04, 2.99007632e-04,\n",
       "        3.03218956e-04, 3.07430309e-04, 3.11641634e-04, 3.15852987e-04,\n",
       "        3.20064311e-04, 3.24275665e-04, 3.28486989e-04, 3.32698342e-04,\n",
       "        3.36909667e-04, 3.41121020e-04, 3.45332373e-04, 3.49543698e-04,\n",
       "        3.53755051e-04, 3.57966375e-04, 3.62177729e-04, 3.66389053e-04,\n",
       "        3.70600406e-04, 3.74811731e-04, 3.79023084e-04, 3.83234408e-04,\n",
       "        3.87445762e-04, 3.91657086e-04, 3.95868439e-04, 4.00079763e-04,\n",
       "        4.04291117e-04, 4.08502441e-04, 4.12713795e-04, 4.16925119e-04,\n",
       "        4.21136472e-04]),\n",
       " <BarContainer object of 100 artists>)"
      ]
     },
     "execution_count": 277,
     "metadata": {},
     "output_type": "execute_result"
    },
    {
     "data": {
      "image/png": "[encoded data removed]",
      "text/plain": [
       "<Figure size 640x480 with 1 Axes>"
      ]
     },
     "metadata": {},
     "output_type": "display_data"
    }
   ],
   "source": [
    "plt.hist(ptvdrag.ravel(),bins=100)"
   ]
  },
  {
   "cell_type": "code",
   "execution_count": 278,
   "metadata": {},
   "outputs": [
    {
     "data": {
      "text/plain": [
       "(array([1.0000e+00, 1.0000e+00, 0.0000e+00, 0.0000e+00, 0.0000e+00,\n",
       "        0.0000e+00, 2.0000e+00, 0.0000e+00, 1.0000e+00, 1.0000e+00,\n",
       "        2.0000e+00, 1.0000e+00, 0.0000e+00, 2.0000e+00, 1.0000e+00,\n",
       "        1.0000e+00, 2.0000e+00, 2.0000e+00, 5.0000e+00, 4.0000e+00,\n",
       "        2.0000e+00, 5.0000e+00, 4.0000e+00, 8.0000e+00, 2.0000e+00,\n",
       "        5.0000e+00, 9.0000e+00, 6.0000e+00, 1.1000e+01, 1.3000e+01,\n",
       "        2.0000e+01, 1.6000e+01, 1.3000e+01, 1.8000e+01, 1.7000e+01,\n",
       "        1.7000e+01, 3.4000e+01, 3.4000e+01, 3.6000e+01, 4.0000e+01,\n",
       "        3.8000e+01, 4.1000e+01, 3.9000e+01, 6.8000e+01, 5.9000e+01,\n",
       "        8.1000e+01, 7.6000e+01, 7.8000e+01, 1.0000e+02, 1.2500e+02,\n",
       "        1.4300e+02, 1.5700e+02, 1.6400e+02, 2.0900e+02, 2.1700e+02,\n",
       "        2.3700e+02, 3.0500e+02, 2.9500e+02, 3.3000e+02, 4.1000e+02,\n",
       "        4.6600e+02, 5.1400e+02, 6.2600e+02, 6.8500e+02, 7.4000e+02,\n",
       "        8.2100e+02, 1.0120e+03, 1.0860e+03, 1.2650e+03, 1.3380e+03,\n",
       "        1.6110e+03, 1.7520e+03, 1.9120e+03, 2.1050e+03, 2.3490e+03,\n",
       "        2.6450e+03, 2.9300e+03, 3.2310e+03, 3.5460e+03, 3.9790e+03,\n",
       "        4.4850e+03, 4.9870e+03, 5.5480e+03, 6.3120e+03, 6.9550e+03,\n",
       "        7.6300e+03, 8.7430e+03, 9.3670e+03, 1.0066e+04, 1.0154e+04,\n",
       "        9.9030e+03, 9.0650e+03, 7.6880e+03, 5.6510e+03, 4.1840e+03,\n",
       "        2.8340e+03, 1.3830e+03, 5.7800e+02, 1.9800e+02, 2.6000e+01]),\n",
       " array([-5.59965754, -5.54741669, -5.49517584, -5.44293499, -5.39069414,\n",
       "        -5.33845329, -5.28621292, -5.23397207, -5.18173122, -5.12949038,\n",
       "        -5.07724953, -5.02500868, -4.97276783, -4.92052698, -4.86828613,\n",
       "        -4.81604528, -4.76380444, -4.71156406, -4.65932322, -4.60708237,\n",
       "        -4.55484152, -4.50260067, -4.45035982, -4.39811897, -4.34587812,\n",
       "        -4.29363728, -4.24139643, -4.18915606, -4.13691521, -4.08467436,\n",
       "        -4.03243351, -3.98019266, -3.92795181, -3.87571096, -3.82347012,\n",
       "        -3.77122951, -3.71898866, -3.66674781, -3.61450696, -3.56226611,\n",
       "        -3.5100255 , -3.45778465, -3.4055438 , -3.35330296, -3.30106211,\n",
       "        -3.24882126, -3.19658065, -3.1443398 , -3.09209895, -3.0398581 ,\n",
       "        -2.98761725, -2.93537664, -2.8831358 , -2.83089495, -2.7786541 ,\n",
       "        -2.72641325, -2.6741724 , -2.62193179, -2.56969094, -2.51745009,\n",
       "        -2.46520925, -2.4129684 , -2.36072779, -2.30848694, -2.25624609,\n",
       "        -2.20400524, -2.15176439, -2.09952378, -2.04728293, -1.99504209,\n",
       "        -1.94280124, -1.89056051, -1.83831966, -1.78607881, -1.73383808,\n",
       "        -1.68159723, -1.62935638, -1.57711565, -1.52487481, -1.47263408,\n",
       "        -1.42039323, -1.36815238, -1.31591165, -1.2636708 , -1.21143007,\n",
       "        -1.15918922, -1.10694838, -1.05470765, -1.0024668 , -0.95022601,\n",
       "        -0.89798522, -0.84574437, -0.79350358, -0.74126279, -0.68902194,\n",
       "        -0.63678116, -0.58454037, -0.53229958, -0.48005876, -0.42781794,\n",
       "        -0.37557715]),\n",
       " <BarContainer object of 100 artists>)"
      ]
     },
     "execution_count": 278,
     "metadata": {},
     "output_type": "execute_result"
    },
    {
     "data": {
      "image/png": "[encoded data removed]",
      "text/plain": [
       "<Figure size 640x480 with 1 Axes>"
      ]
     },
     "metadata": {},
     "output_type": "display_data"
    }
   ],
   "source": [
    "plt.hist(np.log10(1000*ptvdrag),bins=100)"
   ]
  },
  {
   "cell_type": "code",
   "execution_count": null,
   "metadata": {},
   "outputs": [],
   "source": []
  }
 ],
 "metadata": {
  "kernelspec": {
   "display_name": "loon_gw",
   "language": "python",
   "name": "python3"
  },
  "language_info": {
   "codemirror_mode": {
    "name": "ipython",
    "version": 3
   },
   "file_extension": ".py",
   "mimetype": "text/x-python",
   "name": "python",
   "nbconvert_exporter": "python",
   "pygments_lexer": "ipython3",
   "version": "3.12.2"
  }
 },
 "nbformat": 4,
 "nbformat_minor": 2
}
